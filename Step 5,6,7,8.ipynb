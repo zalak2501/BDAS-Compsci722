{
 "cells": [
  {
   "cell_type": "code",
   "execution_count": 1,
   "metadata": {},
   "outputs": [],
   "source": [
    "import findspark\n",
    "findspark.init('/home/ubuntu/spark-2.1.1-bin-hadoop2.7')\n",
    "import pyspark\n",
    "from pyspark.sql import SparkSession\n",
    "spark = SparkSession.builder.appName('Merging and transforming data').getOrCreate() "
   ]
  },
  {
   "cell_type": "code",
   "execution_count": 2,
   "metadata": {},
   "outputs": [],
   "source": [
    "fte  = spark.read.csv(\"My datasets/full-time_employ_rate.csv\",header=True,inferSchema=True) #full-time employment\n",
    "gwg = spark.read.csv(\"My datasets/Gender wage gap.csv\", header=True,inferSchema=True) #gender wage gap\n",
    "gnif = spark.read.csv(\"My datasets/GNI_female.csv\", header=True,inferSchema=True) #gross national income female\n",
    "impexp= spark.read.csv(\"My datasets/Importexport_cost.csv\", header=True,inferSchema=True) #import-export cost\n",
    "gnim = spark.read.csv(\"My datasets/GNI_male.csv\", header=True,inferSchema=True) #gross national income male\n",
    "grad= spark.read.csv(\"My datasets/Graduation_rate.csv\", header=True,inferSchema=True) #graduation rates of men and women\n",
    "inequality= spark.read.csv(\"My datasets/Gender_inequality.csv\", header=True,inferSchema=True) #gender inequality measures\n",
    "gdp = spark.read.csv(\"My datasets/Gross Domestic Product.csv\", header=True,inferSchema=True) #gross domestic product\n",
    "pte = spark.read.csv(\"My datasets/Parttime_employment.csv\", header=True,inferSchema=True) #part-time employment\n",
    "se = spark.read.csv(\"My datasets/Selfemployment.csv\", header=True,inferSchema=True) #self-employment\n"
   ]
  },
  {
   "cell_type": "code",
   "execution_count": 4,
   "metadata": {},
   "outputs": [
    {
     "name": "stdout",
     "output_type": "stream",
     "text": [
      "+--------------+-----+--------+--------+--------+--------+--------+--------+--------+--------+--------+--------+--------+--------+--------+--------+--------+--------+--------+--------+--------+--------+--------+--------+----+----+----+----+----+----+----+----+----+----+----+----+----+----+----+----+----+\n",
      "|       Country|  Sex|1995_fte|1996_fte|1997_fte|1998_fte|1999_fte|2000_fte|2001_fte|2002_fte|2003_fte|2004_fte|2005_fte|2006_fte|2007_fte|2008_fte|2009_fte|2010_fte|2011_fte|2012_fte|2013_fte|2014_fte|2015_fte|2016_fte|2000|2001|2002|2003|2004|2005|2006|2007|2008|2009|2010|2011|2012|2013|2014|2015|2016|\n",
      "+--------------+-----+--------+--------+--------+--------+--------+--------+--------+--------+--------+--------+--------+--------+--------+--------+--------+--------+--------+--------+--------+--------+--------+--------+----+----+----+----+----+----+----+----+----+----+----+----+----+----+----+----+----+\n",
      "|     Australia|  Men|    null|    null|    null|    null|    null|    null|    80.3|    80.2|    80.5|    80.8|    81.6|    81.4|    82.3|    82.3|    79.4|    80.0|    80.2|    79.8|    78.7|    77.7|    77.9|    77.2|17.2|14.3|15.0|13.0|14.4|15.8|16.7|15.4|11.9|16.4|14.0|16.0|13.8|18.0|15.4|13.0|14.3|\n",
      "|     Australia|Women|    null|    null|    null|    null|    null|    null|    47.9|    48.0|    48.7|    49.0|    50.2|    51.0|    51.8|    52.4|    51.6|    51.3|    51.8|    51.8|    51.7|    51.1|    52.1|    52.3|17.2|14.3|15.0|13.0|14.4|15.8|16.7|15.4|11.9|16.4|14.0|16.0|13.8|18.0|15.4|13.0|14.3|\n",
      "|       Austria|  Men|    80.6|    79.6|    79.7|    79.2|    79.9|    79.6|    78.4|    78.1|    77.9|    80.4|    80.4|    81.5|    82.4|    82.0|    80.0|    79.8|    80.0|    79.6|    78.4|    76.9|    76.5|    76.7|23.1|22.8|24.5|21.1|22.4|22.0|21.9|21.6|20.9|19.4|19.2|18.6|18.2|18.1|17.7|17.0|null|\n",
      "|       Austria|Women|    52.9|    52.4|    52.6|    52.0|    52.1|    52.1|    51.9|    52.6|    52.7|    51.3|    51.8|    52.5|    53.3|    54.1|    53.7|    53.8|    54.0|    54.3|    54.1|    53.5|    53.5|    54.0|23.1|22.8|24.5|21.1|22.4|22.0|21.9|21.6|20.9|19.4|19.2|18.6|18.2|18.1|17.7|17.0|null|\n",
      "|       Belgium|  Men|    67.9|    67.4|    68.1|    69.0|    68.6|    70.7|    70.1|    69.7|    68.4|    68.9|    69.2|    68.7|    69.7|    69.0|    67.5|    68.2|    67.9|    67.8|    67.9|    66.9|    66.4|    67.2|13.6|13.2|11.6|15.2|11.8|11.5|10.3| 9.9| 8.9| 7.5| 7.0| 5.8| 6.4| 5.9| 3.3| 4.7|null|\n",
      "|       Belgium|Women|    38.1|    37.9|    38.9|    39.9|    41.0|    42.0|    41.7|    42.6|    42.4|    42.6|    43.9|    43.7|    45.4|    45.8|    45.9|    46.4|    46.3|    46.5|    47.2|    48.0|    48.2|    48.2|13.6|13.2|11.6|15.2|11.8|11.5|10.3| 9.9| 8.9| 7.5| 7.0| 5.8| 6.4| 5.9| 3.3| 4.7|null|\n",
      "|         Chile|  Men|    null|    92.0|    90.5|    90.6|    85.9|    85.2|    84.4|    83.9|    83.9|    83.2|    80.7|    82.4|    82.6|    82.6|    79.2|    81.6|    83.2|    83.1|    82.9|    81.2|    81.0|    79.5| 6.1|null|null| 1.7|null|null| 5.6|null|null| 9.1|null|16.0|null|10.7|null|21.1|null|\n",
      "|         Chile|Women|    null|    39.8|    40.4|    41.2|    40.0|    40.2|    39.5|    39.7|    40.7|    41.4|    41.5|    42.7|    43.7|    45.3|    44.7|    45.2|    47.6|    48.9|    49.6|    49.9|    49.8|    49.6| 6.1|null|null| 1.7|null|null| 5.6|null|null| 9.1|null|16.0|null|10.7|null|21.1|null|\n",
      "|Czech Republic|  Men|    null|    null|    null|    null|    null|    null|    null|    80.8|    80.5|    null|    79.5|    79.9|    81.1|    81.7|    79.5|    78.6|    78.9|    79.1|    79.5|    80.6|    81.4|    82.7|19.1|16.9|16.0|15.6|16.1|15.9|15.4|16.9|17.9|15.1|15.8|16.3|15.3|15.4|16.3|16.5|16.3|\n",
      "|Czech Republic|Women|    null|    null|    null|    null|    null|    null|    null|    56.4|    55.7|    null|    55.7|    56.0|    56.5|    56.8|    55.5|    54.9|    55.8|    56.5|    57.3|    58.3|    60.1|    61.8|19.1|16.9|16.0|15.6|16.1|15.9|15.4|16.9|17.9|15.1|15.8|16.3|15.3|15.4|16.3|16.5|16.3|\n",
      "|       Denmark|  Men|    77.8|    77.0|    76.6|    76.6|    78.0|    78.3|    78.0|    77.1|    76.5|    76.4|    76.5|    77.4|    73.9|    73.8|    69.8|    67.8|    68.1|    67.1|    66.9|    67.4|    68.2|    67.7|null|null|10.8| 9.9|10.2|10.2|10.2| 9.9|10.2|10.2| 8.9| 7.9| 7.0| 6.8| 6.3| 5.8|null|\n",
      "|       Denmark|Women|    54.1|    54.4|    56.2|    56.4|    58.5|    58.9|    59.5|    58.9|    57.6|    57.6|    58.2|    59.1|    58.2|    58.7|    57.1|    55.4|    54.9|    54.7|    54.8|    54.3|    54.6|    55.1|null|null|10.8| 9.9|10.2|10.2|10.2| 9.9|10.2|10.2| 8.9| 7.9| 7.0| 6.8| 6.3| 5.8|null|\n",
      "|       Estonia|  Men|    null|    null|    null|    null|    null|    67.0|    67.4|    66.5|    68.1|    66.8|    67.7|    73.0|    75.1|    74.8|    64.3|    61.9|    68.1|    70.2|    71.5|    72.7|    75.3|    74.8|null|null|25.0|null|null|null|29.7|null|null|null|27.8|null|null|null|28.3|null|null|\n",
      "|       Estonia|Women|    null|    null|    null|    null|    null|    55.8|    56.0|    56.0|    56.9|    57.9|    60.3|    62.5|    62.9|    63.5|    59.3|    56.8|    58.5|    60.5|    61.7|    62.7|    63.6|    63.5|null|null|25.0|null|null|null|29.7|null|null|null|27.8|null|null|null|28.3|null|null|\n",
      "|       Finland|  Men|    null|    null|    null|    null|    null|    null|    71.5|    70.6|    70.1|    69.7|    71.0|    72.1|    71.7|    72.7|    67.7|    68.5|    69.5|    69.4|    67.4|    67.7|    67.4|    68.4|20.4|21.2|20.4|20.1|20.0|18.9|19.4|21.4|21.2|19.7|18.9|18.6|18.7|20.2|19.6|18.1|null|\n",
      "|       Finland|Women|    null|    null|    null|    null|    null|    null|    58.4|    59.4|    58.7|    58.3|    59.9|    60.3|    60.3|    61.0|    59.7|    58.7|    59.3|    59.6|    58.9|    59.1|    59.1|    58.5|20.4|21.2|20.4|20.1|20.0|18.9|19.4|21.4|21.2|19.7|18.9|18.6|18.7|20.2|19.6|18.1|null|\n",
      "|        France|  Men|    69.1|    68.8|    68.0|    68.1|    68.0|    68.2|    68.3|    66.8|    72.0|    71.5|    71.4|    71.2|    71.3|    71.7|    70.4|    70.1|    69.9|    69.6|    68.6|    67.8|    67.5|    68.0|null|null|13.3|null|null|null| 9.4|null|null|null| 9.1|null|null|null| 9.9|null|null|\n",
      "|        France|Women|    44.9|    44.9|    44.4|    44.9|    45.3|    46.1|    46.5|    46.6|    50.0|    49.8|    50.2|    50.5|    51.5|    52.3|    51.7|    51.8|    51.8|    51.9|    51.8|    52.1|    52.4|    52.8|null|null|13.3|null|null|null| 9.4|null|null|null| 9.1|null|null|null| 9.9|null|null|\n",
      "|       Germany|  Men|    75.3|    75.2|    74.3|    74.9|    74.9|    75.0|    74.4|    72.8|    70.5|    71.3|    71.7|    73.0|    74.7|    75.8|    75.6|    76.3|    77.5|    77.7|    77.2|    77.0|    76.6|    77.0|19.6|19.1|19.1|19.6|21.9|16.3|18.1|16.7|16.7|16.5|16.7|16.9|15.6|14.1|17.4|15.8|15.5|\n",
      "|       Germany|Women|    45.7|    45.9|    45.2|    45.5|    46.0|    46.4|    46.3|    46.1|    45.3|    45.5|    45.1|    46.4|    47.6|    48.7|    49.7|    50.4|    51.5|    51.8|    52.3|    53.0|    53.2|    54.1|19.6|19.1|19.1|19.6|21.9|16.3|18.1|16.7|16.7|16.5|16.7|16.9|15.6|14.1|17.4|15.8|15.5|\n",
      "+--------------+-----+--------+--------+--------+--------+--------+--------+--------+--------+--------+--------+--------+--------+--------+--------+--------+--------+--------+--------+--------+--------+--------+--------+----+----+----+----+----+----+----+----+----+----+----+----+----+----+----+----+----+\n",
      "only showing top 20 rows\n",
      "\n"
     ]
    }
   ],
   "source": [
    "Mergeddata1=fte.join(gwg,on=['Country'],how='inner')\n",
    "Mergeddata1.show()"
   ]
  },
  {
   "cell_type": "code",
   "execution_count": null,
   "metadata": {},
   "outputs": [],
   "source": []
  }
 ],
 "metadata": {
  "kernelspec": {
   "display_name": "Python 3",
   "language": "python",
   "name": "python3"
  },
  "language_info": {
   "codemirror_mode": {
    "name": "ipython",
    "version": 3
   },
   "file_extension": ".py",
   "mimetype": "text/x-python",
   "name": "python",
   "nbconvert_exporter": "python",
   "pygments_lexer": "ipython3",
   "version": "3.5.2"
  }
 },
 "nbformat": 4,
 "nbformat_minor": 2
}
