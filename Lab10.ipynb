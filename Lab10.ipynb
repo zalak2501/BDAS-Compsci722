{
 "cells": [
  {
   "cell_type": "code",
   "execution_count": 1,
   "metadata": {},
   "outputs": [],
   "source": [
    "import findspark\n",
    "findspark.init('/home/ubuntu/spark-2.1.1-bin-hadoop2.7')\n",
    "import pyspark\n",
    "from pyspark.sql import SparkSession\n",
    "spark = SparkSession.builder.appName('Clustering').getOrCreate()"
   ]
  },
  {
   "cell_type": "code",
   "execution_count": 2,
   "metadata": {},
   "outputs": [],
   "source": [
    "from pyspark.ml.clustering import KMeans\n"
   ]
  },
  {
   "cell_type": "code",
   "execution_count": 3,
   "metadata": {},
   "outputs": [],
   "source": [
    "df = spark.read.csv(\"My datasets/Mergedata1_bdas.csv\",inferSchema=True,header=True)"
   ]
  },
  {
   "cell_type": "code",
   "execution_count": 4,
   "metadata": {},
   "outputs": [
    {
     "name": "stdout",
     "output_type": "stream",
     "text": [
      "Row(Country='HUN', Sex='MEN', Year=2013, Parttime_rate=-1.261207052, Selfemp_rate=-0.413181977, GDP Value=-0.463960339, Export=1, Import=0, Cost=-0.566249253)\n"
     ]
    }
   ],
   "source": [
    "print(df.head())\n"
   ]
  },
  {
   "cell_type": "code",
   "execution_count": 5,
   "metadata": {},
   "outputs": [
    {
     "name": "stdout",
     "output_type": "stream",
     "text": [
      "root\n",
      " |-- Country: string (nullable = true)\n",
      " |-- Sex: string (nullable = true)\n",
      " |-- Year: integer (nullable = true)\n",
      " |-- Parttime_rate: double (nullable = true)\n",
      " |-- Selfemp_rate: double (nullable = true)\n",
      " |-- GDP Value: double (nullable = true)\n",
      " |-- Export: integer (nullable = true)\n",
      " |-- Import: integer (nullable = true)\n",
      " |-- Cost: double (nullable = true)\n",
      "\n"
     ]
    }
   ],
   "source": [
    "df.printSchema()\n"
   ]
  },
  {
   "cell_type": "code",
   "execution_count": 6,
   "metadata": {},
   "outputs": [
    {
     "data": {
      "text/html": [
       "<div>\n",
       "<style scoped>\n",
       "    .dataframe tbody tr th:only-of-type {\n",
       "        vertical-align: middle;\n",
       "    }\n",
       "\n",
       "    .dataframe tbody tr th {\n",
       "        vertical-align: top;\n",
       "    }\n",
       "\n",
       "    .dataframe thead th {\n",
       "        text-align: right;\n",
       "    }\n",
       "</style>\n",
       "<table border=\"1\" class=\"dataframe\">\n",
       "  <thead>\n",
       "    <tr style=\"text-align: right;\">\n",
       "      <th></th>\n",
       "      <th>0</th>\n",
       "      <th>1</th>\n",
       "      <th>2</th>\n",
       "      <th>3</th>\n",
       "      <th>4</th>\n",
       "    </tr>\n",
       "  </thead>\n",
       "  <tbody>\n",
       "    <tr>\n",
       "      <th>summary</th>\n",
       "      <td>count</td>\n",
       "      <td>mean</td>\n",
       "      <td>stddev</td>\n",
       "      <td>min</td>\n",
       "      <td>max</td>\n",
       "    </tr>\n",
       "    <tr>\n",
       "      <th>Country</th>\n",
       "      <td>318</td>\n",
       "      <td>None</td>\n",
       "      <td>None</td>\n",
       "      <td>AUS</td>\n",
       "      <td>TUR</td>\n",
       "    </tr>\n",
       "    <tr>\n",
       "      <th>Sex</th>\n",
       "      <td>318</td>\n",
       "      <td>None</td>\n",
       "      <td>None</td>\n",
       "      <td>MEN</td>\n",
       "      <td>WOMEN</td>\n",
       "    </tr>\n",
       "    <tr>\n",
       "      <th>Year</th>\n",
       "      <td>318</td>\n",
       "      <td>2014.4968553459119</td>\n",
       "      <td>1.1141431690277472</td>\n",
       "      <td>2013</td>\n",
       "      <td>2016</td>\n",
       "    </tr>\n",
       "    <tr>\n",
       "      <th>Parttime_rate</th>\n",
       "      <td>318</td>\n",
       "      <td>0.007965305657232694</td>\n",
       "      <td>0.941164064527062</td>\n",
       "      <td>-1.348200942</td>\n",
       "      <td>4.040367459</td>\n",
       "    </tr>\n",
       "    <tr>\n",
       "      <th>Selfemp_rate</th>\n",
       "      <td>318</td>\n",
       "      <td>-0.036324366216981124</td>\n",
       "      <td>0.9591783853040566</td>\n",
       "      <td>-1.355954323</td>\n",
       "      <td>3.507917323</td>\n",
       "    </tr>\n",
       "    <tr>\n",
       "      <th>GDP Value</th>\n",
       "      <td>318</td>\n",
       "      <td>0.004000497820754719</td>\n",
       "      <td>1.0119695213257136</td>\n",
       "      <td>-0.517832601</td>\n",
       "      <td>5.510229845</td>\n",
       "    </tr>\n",
       "    <tr>\n",
       "      <th>Export</th>\n",
       "      <td>318</td>\n",
       "      <td>0.5157232704402516</td>\n",
       "      <td>0.5005403504434763</td>\n",
       "      <td>0</td>\n",
       "      <td>1</td>\n",
       "    </tr>\n",
       "    <tr>\n",
       "      <th>Import</th>\n",
       "      <td>318</td>\n",
       "      <td>0.48427672955974843</td>\n",
       "      <td>0.5005403504434764</td>\n",
       "      <td>0</td>\n",
       "      <td>1</td>\n",
       "    </tr>\n",
       "    <tr>\n",
       "      <th>Cost</th>\n",
       "      <td>318</td>\n",
       "      <td>-0.011574737371069163</td>\n",
       "      <td>0.9785401675065469</td>\n",
       "      <td>-0.738233521</td>\n",
       "      <td>4.813713154</td>\n",
       "    </tr>\n",
       "  </tbody>\n",
       "</table>\n",
       "</div>"
      ],
      "text/plain": [
       "                   0                      1                   2             3  \\\n",
       "summary        count                   mean              stddev           min   \n",
       "Country          318                   None                None           AUS   \n",
       "Sex              318                   None                None           MEN   \n",
       "Year             318     2014.4968553459119  1.1141431690277472          2013   \n",
       "Parttime_rate    318   0.007965305657232694   0.941164064527062  -1.348200942   \n",
       "Selfemp_rate     318  -0.036324366216981124  0.9591783853040566  -1.355954323   \n",
       "GDP Value        318   0.004000497820754719  1.0119695213257136  -0.517832601   \n",
       "Export           318     0.5157232704402516  0.5005403504434763             0   \n",
       "Import           318    0.48427672955974843  0.5005403504434764             0   \n",
       "Cost             318  -0.011574737371069163  0.9785401675065469  -0.738233521   \n",
       "\n",
       "                         4  \n",
       "summary                max  \n",
       "Country                TUR  \n",
       "Sex                  WOMEN  \n",
       "Year                  2016  \n",
       "Parttime_rate  4.040367459  \n",
       "Selfemp_rate   3.507917323  \n",
       "GDP Value      5.510229845  \n",
       "Export                   1  \n",
       "Import                   1  \n",
       "Cost           4.813713154  "
      ]
     },
     "execution_count": 6,
     "metadata": {},
     "output_type": "execute_result"
    }
   ],
   "source": [
    "import pandas as pd\n",
    "df.describe().toPandas().transpose()"
   ]
  },
  {
   "cell_type": "code",
   "execution_count": 7,
   "metadata": {},
   "outputs": [],
   "source": [
    "from pyspark.ml.feature import VectorAssembler"
   ]
  },
  {
   "cell_type": "code",
   "execution_count": 8,
   "metadata": {},
   "outputs": [],
   "source": [
    "vector_assembler = VectorAssembler(inputCols = ['Parttime_rate', 'Selfemp_rate', 'GDP Value', 'Export', 'Import', 'Cost'], outputCol = 'features')"
   ]
  },
  {
   "cell_type": "code",
   "execution_count": 9,
   "metadata": {},
   "outputs": [
    {
     "name": "stdout",
     "output_type": "stream",
     "text": [
      "root\n",
      " |-- Country: string (nullable = true)\n",
      " |-- Sex: string (nullable = true)\n",
      " |-- Year: integer (nullable = true)\n",
      " |-- Parttime_rate: double (nullable = true)\n",
      " |-- Selfemp_rate: double (nullable = true)\n",
      " |-- GDP Value: double (nullable = true)\n",
      " |-- Export: integer (nullable = true)\n",
      " |-- Import: integer (nullable = true)\n",
      " |-- Cost: double (nullable = true)\n",
      " |-- features: vector (nullable = true)\n",
      "\n"
     ]
    },
    {
     "data": {
      "text/plain": [
       "[Row(Country='HUN', Sex='MEN', Year=2013, Parttime_rate=-1.261207052, Selfemp_rate=-0.413181977, GDP Value=-0.463960339, Export=1, Import=0, Cost=-0.566249253, features=DenseVector([-1.2612, -0.4132, -0.464, 1.0, 0.0, -0.5662]))]"
      ]
     },
     "execution_count": 9,
     "metadata": {},
     "output_type": "execute_result"
    }
   ],
   "source": [
    "# Now that we've created the assembler variable, let's actually transform the data.\n",
    "vector_output = vector_assembler.transform(df)\n",
    "\n",
    "# Using print schema, you see that the features output column has been added. \n",
    "vector_output.printSchema()\n",
    "\n",
    "# You can see that the features column is a DenseVector that combines the various features as expected.\n",
    "vector_output.head(1)"
   ]
  },
  {
   "cell_type": "code",
   "execution_count": null,
   "metadata": {},
   "outputs": [],
   "source": []
  }
 ],
 "metadata": {
  "kernelspec": {
   "display_name": "Python 3",
   "language": "python",
   "name": "python3"
  },
  "language_info": {
   "codemirror_mode": {
    "name": "ipython",
    "version": 3
   },
   "file_extension": ".py",
   "mimetype": "text/x-python",
   "name": "python",
   "nbconvert_exporter": "python",
   "pygments_lexer": "ipython3",
   "version": "3.5.2"
  }
 },
 "nbformat": 4,
 "nbformat_minor": 2
}
