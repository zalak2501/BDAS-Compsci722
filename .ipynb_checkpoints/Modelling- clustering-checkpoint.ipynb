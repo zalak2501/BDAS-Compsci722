{
 "cells": [
  {
   "cell_type": "code",
   "execution_count": 1,
   "metadata": {},
   "outputs": [],
   "source": [
    "import findspark\n",
    "findspark.init('/home/ubuntu/spark-2.3.2-bin-hadoop2.7')\n",
    "import pyspark\n",
    "from pyspark.sql import SparkSession\n",
    "spark = SparkSession.builder.appName('Clustering').getOrCreate() "
   ]
  },
  {
   "cell_type": "code",
   "execution_count": 9,
   "metadata": {
    "scrolled": false
   },
   "outputs": [
    {
     "name": "stdout",
     "output_type": "stream",
     "text": [
      "+----------+--------+---------+--------+---------+----------+----------+------------+-------------+\n",
      "| GDP Value|    Cost|pte_value|se_value|Sex_Index|TIME_Index|GDPsubject|Impexp_Index|Country_Index|\n",
      "+----------+--------+---------+--------+---------+----------+----------+------------+-------------+\n",
      "|1102723.05|246949.7|    38.14|    7.89|        1|         1|         0|           0|           30|\n",
      "|1102723.05|246949.7|    13.65|   11.97|        2|         1|         0|           0|           30|\n",
      "|1102723.05|246949.7|    24.88|    10.1|        0|         1|         0|           0|           30|\n",
      "|1102723.05|254201.7|    38.14|    7.89|        1|         1|         0|           1|           30|\n",
      "|1102723.05|254201.7|    13.65|   11.97|        2|         1|         0|           1|           30|\n",
      "|1102723.05|254201.7|    24.88|    10.1|        0|         1|         0|           1|           30|\n",
      "|1116293.11|238300.4|    38.33|    7.98|        1|         0|         0|           0|           30|\n",
      "|1116293.11|238300.4|    14.03|   12.05|        2|         0|         0|           0|           30|\n",
      "|1116293.11|238300.4|    25.21|   10.18|        0|         0|         0|           0|           30|\n",
      "|1116293.11|240425.8|    38.33|    7.98|        1|         0|         0|           1|           30|\n",
      "|1116293.11|240425.8|    14.03|   12.05|        2|         0|         0|           1|           30|\n",
      "|1116293.11|240425.8|    25.21|   10.18|        0|         0|         0|           1|           30|\n",
      "|1128361.01|207262.8|    37.97|    8.15|        1|         2|         0|           0|           30|\n",
      "|1128361.01|207262.8|    14.29|   12.11|        2|         2|         0|           0|           30|\n",
      "|1128361.01|207262.8|    25.24|   10.28|        0|         2|         0|           0|           30|\n",
      "|1128361.01|188096.6|    37.97|    8.15|        1|         2|         0|           1|           30|\n",
      "|1128361.01|188096.6|    14.29|   12.11|        2|         2|         0|           1|           30|\n",
      "|1128361.01|188096.6|    25.24|   10.28|        0|         2|         0|           1|           30|\n",
      "|1181218.13|198519.0|    38.35|    8.13|        1|         3|         0|           0|           30|\n",
      "|1181218.13|198519.0|    15.06|   11.71|        2|         3|         0|           0|           30|\n",
      "+----------+--------+---------+--------+---------+----------+----------+------------+-------------+\n",
      "only showing top 20 rows\n",
      "\n",
      "+-------+----+-----+----------+----------+------+--------+---------+--------+\n",
      "|Country|TIME|  Sex|GDPsubject| GDP Value|Impexp|    Cost|pte_value|se_value|\n",
      "+-------+----+-----+----------+----------+------+--------+---------+--------+\n",
      "|    AUS|2013|WOMEN|       TOT|1102723.05|   IMP|246949.7|    38.14|    7.89|\n",
      "|    AUS|2013|  MEN|       TOT|1102723.05|   IMP|246949.7|    13.65|   11.97|\n",
      "|    AUS|2013|  TOT|       TOT|1102723.05|   IMP|246949.7|    24.88|    10.1|\n",
      "|    AUS|2013|WOMEN|       TOT|1102723.05|   EXP|254201.7|    38.14|    7.89|\n",
      "|    AUS|2013|  MEN|       TOT|1102723.05|   EXP|254201.7|    13.65|   11.97|\n",
      "|    AUS|2013|  TOT|       TOT|1102723.05|   EXP|254201.7|    24.88|    10.1|\n",
      "|    AUS|2014|WOMEN|       TOT|1116293.11|   IMP|238300.4|    38.33|    7.98|\n",
      "|    AUS|2014|  MEN|       TOT|1116293.11|   IMP|238300.4|    14.03|   12.05|\n",
      "|    AUS|2014|  TOT|       TOT|1116293.11|   IMP|238300.4|    25.21|   10.18|\n",
      "|    AUS|2014|WOMEN|       TOT|1116293.11|   EXP|240425.8|    38.33|    7.98|\n",
      "|    AUS|2014|  MEN|       TOT|1116293.11|   EXP|240425.8|    14.03|   12.05|\n",
      "|    AUS|2014|  TOT|       TOT|1116293.11|   EXP|240425.8|    25.21|   10.18|\n",
      "|    AUS|2015|WOMEN|       TOT|1128361.01|   IMP|207262.8|    37.97|    8.15|\n",
      "|    AUS|2015|  MEN|       TOT|1128361.01|   IMP|207262.8|    14.29|   12.11|\n",
      "|    AUS|2015|  TOT|       TOT|1128361.01|   IMP|207262.8|    25.24|   10.28|\n",
      "|    AUS|2015|WOMEN|       TOT|1128361.01|   EXP|188096.6|    37.97|    8.15|\n",
      "|    AUS|2015|  MEN|       TOT|1128361.01|   EXP|188096.6|    14.29|   12.11|\n",
      "|    AUS|2015|  TOT|       TOT|1128361.01|   EXP|188096.6|    25.24|   10.28|\n",
      "|    AUS|2016|WOMEN|       TOT|1181218.13|   IMP|198519.0|    38.35|    8.13|\n",
      "|    AUS|2016|  MEN|       TOT|1181218.13|   IMP|198519.0|    15.06|   11.71|\n",
      "+-------+----+-----+----------+----------+------+--------+---------+--------+\n",
      "only showing top 20 rows\n",
      "\n",
      "+--------------+-----+--------+--------+--------+--------+--------+--------+--------+--------+--------+--------+--------+--------+---------+---------+---------+---------+---------+---------+---------+---------+--------+--------+--------+--------+--------+--------+-------+--------+--------+-----------------------------+------------------------+---------------------+------------------------------------+--------------------------------------------+------------------------------------------+----------------------------------------+--------------------------------------+\n",
      "|       Country|  Sex|2011_fte|2012_fte|2013_fte|2014_fte|2015_fte|2016_fte| 2011gwg| 2012gwg| 2013gwg| 2014gwg| 2015gwg| 2016gwg|2000_gnif|2005_gnif|2010_gnif|2011_gnif|2012_gnif|2013_gnif|2014_gnif|2015_gnif|2000_gni|2005_gni|2010_gni|2011_gni|2012_gni|2013_gni|2014gni|2015_gni|GII Rank|Gender Inequality Index (GII)|Maternal Mortality Ratio|Adolescent Birth Rate|Percent Representation in Parliament|Population with Secondary Education (Female)|Population with Secondary Education (Male)|Labour Force Participation Rate (Female)|Labour Force Participation Rate (Male)|\n",
      "+--------------+-----+--------+--------+--------+--------+--------+--------+--------+--------+--------+--------+--------+--------+---------+---------+---------+---------+---------+---------+---------+---------+--------+--------+--------+--------+--------+--------+-------+--------+--------+-----------------------------+------------------------+---------------------+------------------------------------+--------------------------------------------+------------------------------------------+----------------------------------------+--------------------------------------+\n",
      "|     Australia|  Men|    80.2|    79.8|    78.7|    77.7|    77.9|    77.2|    16.0|    13.8|    18.0|    15.4|    13.0|    14.3|    26268|    29848|    31749|    32039|    32968|    33478|    33751|    34271|   45151|   49034|   47883|   48125|   49539|   50135|  50577|   51386|       2|                         0.11|                       6|                 12.1|                                30.5|                                        94.3|                                      94.6|                                    58.8|                                  71.8|\n",
      "|     Australia|Women|    51.8|    51.8|    51.7|    51.1|    52.1|    52.3|    16.0|    13.8|    18.0|    15.4|    13.0|    14.3|    26268|    29848|    31749|    32039|    32968|    33478|    33751|    34271|   45151|   49034|   47883|   48125|   49539|   50135|  50577|   51386|       2|                         0.11|                       6|                 12.1|                                30.5|                                        94.3|                                      94.6|                                    58.8|                                  71.8|\n",
      "|       Austria|  Men|    80.0|    79.6|    78.4|    76.9|    76.5|    76.7|    18.6|    18.2|    18.1|    17.7|    17.0|14.08125|    23830|    25997|    29036|    29703|    29943|    30097|    29753|    29835|   53118|   56435|   58364|   59355|   59112|   58828|  57874|   57882|      23|                        0.053|                       4|                  4.1|                                30.3|                                       100.0|                                     100.0|                                    54.6|                                  67.7|\n",
      "|       Austria|Women|    54.0|    54.3|    54.1|    53.5|    53.5|    54.0|    18.6|    18.2|    18.1|    17.7|    17.0|14.08125|    23830|    25997|    29036|    29703|    29943|    30097|    29753|    29835|   53118|   56435|   58364|   59355|   59112|   58828|  57874|   57882|      23|                        0.053|                       4|                  4.1|                                30.3|                                       100.0|                                     100.0|                                    54.6|                                  67.7|\n",
      "|       Belgium|  Men|    67.9|    67.8|    67.9|    66.9|    66.4|    67.2|     5.8|     6.4|     5.9|     3.3|     4.7|14.08125|    26700|    29608|    32273|    31633|    31989|    32088|    32345|    32422|   49334|   50113|   51932|   51175|   51484|   50255|  50356|   50352|      21|                        0.063|                       6|                  6.7|                                42.4|                                        77.5|                                      82.9|                                    47.5|                                  59.3|\n",
      "|       Belgium|Women|    46.3|    46.5|    47.2|    48.0|    48.2|    48.2|     5.8|     6.4|     5.9|     3.3|     4.7|14.08125|    26700|    29608|    32273|    31633|    31989|    32088|    32345|    32422|   49334|   50113|   51932|   51175|   51484|   50255|  50356|   50352|      21|                        0.063|                       6|                  6.7|                                42.4|                                        77.5|                                      82.9|                                    47.5|                                  59.3|\n",
      "|         Chile|  Men|    83.2|    83.1|    82.9|    81.2|    81.0|    79.5|    16.0|14.08125|    10.7|14.08125|    21.1|14.08125|     7569|     8943|    12247|    13030|    13899|    14446|    14737|    14955|   20954|   22453|   23995|   25422|   26889|   27711|  28147|   28556|      42|                        0.338|                      22|                 55.3|                                15.8|                                        73.3|                                      76.4|                                    49.2|                                  74.8|\n",
      "|         Chile|Women|    47.6|    48.9|    49.6|    49.9|    49.8|    49.6|    16.0|14.08125|    10.7|14.08125|    21.1|14.08125|     7569|     8943|    12247|    13030|    13899|    14446|    14737|    14955|   20954|   22453|   23995|   25422|   26889|   27711|  28147|   28556|      42|                        0.338|                      22|                 55.3|                                15.8|                                        73.3|                                      76.4|                                    49.2|                                  74.8|\n",
      "|Czech Republic|  Men|    78.9|    79.1|    79.5|    80.6|    81.4|    82.7|    16.3|    15.3|    15.4|    16.3|    16.5|    16.3|    15028|    17677|    18587|    19408|    19631|    19624|    20053|    21001|   26497|   31435|   33642|   33720|   33685|   33488|  33941|   35540|      28|                        0.091|                       5|                  4.9|                                18.9|                                        99.9|                                      99.7|                                    51.1|                                  68.3|\n",
      "|Czech Republic|Women|    55.8|    56.5|    57.3|    58.3|    60.1|    61.8|    16.3|    15.3|    15.4|    16.3|    16.5|    16.3|    15028|    17677|    18587|    19408|    19631|    19624|    20053|    21001|   26497|   31435|   33642|   33720|   33685|   33488|  33941|   35540|      28|                        0.091|                       5|                  4.9|                                18.9|                                        99.9|                                      99.7|                                    51.1|                                  68.3|\n",
      "|       Denmark|  Men|    68.1|    67.1|    66.9|    67.4|    68.2|    67.7|     7.9|     7.0|     6.8|     6.3|     5.8|14.08125|    31989|    34844|    36081|    36518|    36504|    36724|    36749|    36857|   49941|   53861|   51472|   52071|   51825|   52123|  52149|   52293|       4|                        0.048|                       5|                  5.1|                                38.0|                                        95.5|                                      96.6|                                    58.7|                                  66.4|\n",
      "|       Denmark|Women|    54.9|    54.7|    54.8|    54.3|    54.6|    55.1|     7.9|     7.0|     6.8|     6.3|     5.8|14.08125|    31989|    34844|    36081|    36518|    36504|    36724|    36749|    36857|   49941|   53861|   51472|   52071|   51825|   52123|  52149|   52293|       4|                        0.048|                       5|                  5.1|                                38.0|                                        95.5|                                      96.6|                                    58.7|                                  66.4|\n",
      "|       Estonia|  Men|    68.1|    70.2|    71.5|    72.7|    75.3|    74.8|14.08125|14.08125|14.08125|    28.3|14.08125|14.08125|    11513|    17075|    17665|    19073|    20339|    21105|    21590|    21976|   18499|   26329|   24932|   26983|   28838|   29986|  30859|   31347|      30|                        0.164|                      11|                 16.8|                                19.8|                                       100.0|                                     100.0|                                    56.2|                                  68.9|\n",
      "|       Estonia|Women|    58.5|    60.5|    61.7|    62.7|    63.6|    63.5|14.08125|14.08125|14.08125|    28.3|14.08125|14.08125|    11513|    17075|    17665|    19073|    20339|    21105|    21590|    21976|   18499|   26329|   24932|   26983|   28838|   29986|  30859|   31347|      30|                        0.164|                      11|                 16.8|                                19.8|                                       100.0|                                     100.0|                                    56.2|                                  68.9|\n",
      "|       Finland|  Men|    69.5|    69.4|    67.4|    67.7|    67.4|    68.4|    18.6|    18.7|    20.2|    19.6|    18.1|14.08125|    27013|    32587|    33507|    33122|    33673|    32105|    32029|    32081|   41926|   45421|   46658|   48013|   45928|   46428|  45851|   45870|      24|                        0.075|                       4|                  9.2|                                42.5|                                       100.0|                                     100.0|                                    55.7|                                  64.0|\n",
      "|       Finland|Women|    59.3|    59.6|    58.9|    59.1|    59.1|    58.5|    18.6|    18.7|    20.2|    19.6|    18.1|14.08125|    27013|    32587|    33507|    33122|    33673|    32105|    32029|    32081|   41926|   45421|   46658|   48013|   45928|   46428|  45851|   45870|      24|                        0.075|                       4|                  9.2|                                42.5|                                       100.0|                                     100.0|                                    55.7|                                  64.0|\n",
      "|        France|  Men|    69.9|    69.6|    68.6|    67.8|    67.5|    68.0|14.08125|14.08125|14.08125|     9.9|14.08125|14.08125|    26374|    28405|    30860|    31415|    31440|    31532|    31519|    31734|   44891|   46091|   44486|   45314|   44384|   44484|  44480|   44783|      22|                        0.088|                      12|                  5.7|                                25.7|                                        78.0|                                      83.2|                                    50.7|                                  61.6|\n",
      "|        France|Women|    51.8|    51.9|    51.8|    52.1|    52.4|    52.8|14.08125|14.08125|14.08125|     9.9|14.08125|14.08125|    26374|    28405|    30860|    31415|    31440|    31532|    31519|    31734|   44891|   46091|   44486|   45314|   44384|   44484|  44480|   44783|      22|                        0.088|                      12|                  5.7|                                25.7|                                        78.0|                                      83.2|                                    50.7|                                  61.6|\n",
      "|       Germany|  Men|    77.5|    77.7|    77.2|    77.0|    76.6|    77.0|    16.9|    15.6|    14.1|    17.4|    15.8|    15.5|    26453|    29535|    32718|    33944|    34580|    34306|    35357|    35868|   47501|   47378|   50594|   52839|   53904|   52401|  53937|   54450|       6|                        0.041|                       7|                  3.8|                                36.9|                                        96.3|                                      97.0|                                    53.6|                                  66.4|\n",
      "|       Germany|Women|    51.5|    51.8|    52.3|    53.0|    53.2|    54.1|    16.9|    15.6|    14.1|    17.4|    15.8|    15.5|    26453|    29535|    32718|    33944|    34580|    34306|    35357|    35868|   47501|   47378|   50594|   52839|   53904|   52401|  53937|   54450|       6|                        0.041|                       7|                  3.8|                                36.9|                                        96.3|                                      97.0|                                    53.6|                                  66.4|\n",
      "+--------------+-----+--------+--------+--------+--------+--------+--------+--------+--------+--------+--------+--------+--------+---------+---------+---------+---------+---------+---------+---------+---------+--------+--------+--------+--------+--------+--------+-------+--------+--------+-----------------------------+------------------------+---------------------+------------------------------------+--------------------------------------------+------------------------------------------+----------------------------------------+--------------------------------------+\n",
      "only showing top 20 rows\n",
      "\n"
     ]
    }
   ],
   "source": [
    "#Using the 2 obtained merged datasets from previous steps\n",
    "\n",
    "final1  = spark.read.csv(\"Updated Datasets after cleaning/final1.csv\",header=True,inferSchema=True) \n",
    "final2  = spark.read.csv(\"Updated Datasets after cleaning/final2.csv\",header=True,inferSchema=True) \n",
    "\n",
    "finalindex =spark.read.csv(\"finindexed.csv\",header=True,inferSchema=True)\n",
    "finalindex2 =spark.read.csv(\"fi2.csv\",header=True,inferSchema=True)\n",
    "\n",
    "finalindex.show()\n",
    "final1.show()\n",
    "final2.show()"
   ]
  },
  {
   "cell_type": "code",
   "execution_count": 20,
   "metadata": {
    "scrolled": true
   },
   "outputs": [
    {
     "name": "stdout",
     "output_type": "stream",
     "text": [
      "root\n",
      " |-- Country: string (nullable = true)\n",
      " |-- TIME: integer (nullable = true)\n",
      " |-- Sex: string (nullable = true)\n",
      " |-- GDPsubject: string (nullable = true)\n",
      " |-- GDP Value: double (nullable = true)\n",
      " |-- Impexp: string (nullable = true)\n",
      " |-- Cost: double (nullable = true)\n",
      " |-- pte_value: double (nullable = true)\n",
      " |-- se_value: double (nullable = true)\n",
      "\n"
     ]
    }
   ],
   "source": [
    "final1.printSchema() #the string columns should be converted to numeric(vectors) further\n"
   ]
  },
  {
   "cell_type": "code",
   "execution_count": 7,
   "metadata": {},
   "outputs": [
    {
     "name": "stdout",
     "output_type": "stream",
     "text": [
      "root\n",
      " |-- Country: string (nullable = true)\n",
      " |-- Sex: string (nullable = true)\n",
      " |-- 2011_fte: double (nullable = true)\n",
      " |-- 2012_fte: double (nullable = true)\n",
      " |-- 2013_fte: double (nullable = true)\n",
      " |-- 2014_fte: double (nullable = true)\n",
      " |-- 2015_fte: double (nullable = true)\n",
      " |-- 2016_fte: double (nullable = true)\n",
      " |-- 2011gwg: double (nullable = true)\n",
      " |-- 2012gwg: double (nullable = true)\n",
      " |-- 2013gwg: double (nullable = true)\n",
      " |-- 2014gwg: double (nullable = true)\n",
      " |-- 2015gwg: double (nullable = true)\n",
      " |-- 2016gwg: double (nullable = true)\n",
      " |-- 2000_gnif: integer (nullable = true)\n",
      " |-- 2005_gnif: integer (nullable = true)\n",
      " |-- 2010_gnif: integer (nullable = true)\n",
      " |-- 2011_gnif: integer (nullable = true)\n",
      " |-- 2012_gnif: integer (nullable = true)\n",
      " |-- 2013_gnif: integer (nullable = true)\n",
      " |-- 2014_gnif: integer (nullable = true)\n",
      " |-- 2015_gnif: integer (nullable = true)\n",
      " |-- 2000_gni: integer (nullable = true)\n",
      " |-- 2005_gni: integer (nullable = true)\n",
      " |-- 2010_gni: integer (nullable = true)\n",
      " |-- 2011_gni: integer (nullable = true)\n",
      " |-- 2012_gni: integer (nullable = true)\n",
      " |-- 2013_gni: integer (nullable = true)\n",
      " |-- 2014gni: integer (nullable = true)\n",
      " |-- 2015_gni: integer (nullable = true)\n",
      " |-- GII Rank: integer (nullable = true)\n",
      " |-- Gender Inequality Index (GII): double (nullable = true)\n",
      " |-- Maternal Mortality Ratio: integer (nullable = true)\n",
      " |-- Adolescent Birth Rate: double (nullable = true)\n",
      " |-- Percent Representation in Parliament: double (nullable = true)\n",
      " |-- Population with Secondary Education (Female): double (nullable = true)\n",
      " |-- Population with Secondary Education (Male): double (nullable = true)\n",
      " |-- Labour Force Participation Rate (Female): double (nullable = true)\n",
      " |-- Labour Force Participation Rate (Male): double (nullable = true)\n",
      "\n"
     ]
    }
   ],
   "source": [
    "final2.printSchema() #Only has 2 string columns"
   ]
  },
  {
   "cell_type": "code",
   "execution_count": 43,
   "metadata": {
    "scrolled": false
   },
   "outputs": [],
   "source": [
    "from pyspark.ml.linalg import Vectors\n",
    "from pyspark.ml.feature import VectorAssembler\n",
    "from pyspark.ml.feature import StringIndexer\n",
    "\n",
    "from pyspark.ml import Pipeline\n",
    "\n",
    "#converting categoricalvalues to numeric\n",
    "indexer = [StringIndexer(inputCol=column, outputCol=column+\"_Index\").fit(final1) for column in list(set(final1.columns)-set(['GDP Value'])\n",
    "                                                                                                    -set(['Cost'])-set(['pte_value'])-set(['se_value']))] \n",
    "\n",
    "indexer_1 =StringIndexer(inputCol='Country', outputCol='Country_Index').fit(final2)  \n",
    "indexer_2 =StringIndexer(inputCol='Sex', outputCol='Sex_Index').fit(final2)  \n",
    "\n",
    "\n",
    "pipeline2= Pipeline(stages=[indexer_1,indexer_2])\n",
    "pipeline = Pipeline(stages=indexer)\n",
    "\n",
    "indexed = pipeline.fit(final1).transform(final1)\n",
    "indexed2= pipeline2.fit(final2).transform(final2)\n",
    "\n",
    "#final1_indexed=indexed.drop('Sex','TIME','Country','GDPsubject','Impexp').write.csv('finalindex.csv')\n",
    "\n",
    "#indexed2.drop('Country','Sex').write.csv('fi2.csv')\n"
   ]
  },
  {
   "cell_type": "code",
   "execution_count": 44,
   "metadata": {
    "scrolled": true
   },
   "outputs": [],
   "source": [
    "\n",
    "from pyspark.ml.linalg import Vectors\n",
    "from pyspark.ml.feature import VectorAssembler\n",
    "\n",
    "feat_cols = ['GDP Value','Impexp_Index','Sex_Index','TIME_Index',\n",
    "             'Cost','pte_value','se_value','Country_Index']\n",
    "\n",
    "#Using vectoe assembler to group all feature into one column\n",
    "\n",
    "vec_assembler = VectorAssembler(inputCols = feat_cols, outputCol='features')\n",
    "\n",
    "final1_data = vec_assembler.transform(finalindex)\n"
   ]
  },
  {
   "cell_type": "code",
   "execution_count": 47,
   "metadata": {},
   "outputs": [],
   "source": [
    "\n",
    "from pyspark.ml.linalg import Vectors\n",
    "from pyspark.ml.feature import VectorAssembler\n",
    "\n",
    "feat_cols2 = ['2015_gni','2015_gnif','Sex_Index_','2015_fte',\n",
    "             'Percent Representation in Parliament','Population with Secondary Education (Female)',\n",
    "              'Population with Secondary Education (Male)','Country_Index','Labour Force Participation Rate (Female)',\n",
    "              'Labour Force Participation Rate (Male)']\n",
    "\n",
    "vec_assembler2 = VectorAssembler(inputCols = feat_cols2, outputCol='features')\n",
    "\n",
    "final2_data= vec_assembler2.transform(finalindex2)\n"
   ]
  },
  {
   "cell_type": "code",
   "execution_count": 48,
   "metadata": {},
   "outputs": [],
   "source": [
    "from pyspark.ml.feature import StandardScaler\n",
    "scaler = StandardScaler(inputCol=\"features\", outputCol=\"scaledFeatures\", withStd=True, withMean=False)"
   ]
  },
  {
   "cell_type": "code",
   "execution_count": 49,
   "metadata": {},
   "outputs": [],
   "source": [
    "# Compute summary statistics by fitting the StandardScaler\n",
    "scalerModel = scaler.fit(final1_data)\n",
    "\n",
    "scalerModel2=scaler.fit(final2_data)\n",
    "# Normalize each feature to have unit standard deviation.\n",
    "cluster_final_data = scalerModel.transform(final1_data)\n",
    "cluster_final_data2 =scalerModel2.transform(final2_data)"
   ]
  },
  {
   "cell_type": "code",
   "execution_count": 52,
   "metadata": {},
   "outputs": [],
   "source": [
    "##################################### Clustering through pyspark ########################################\n",
    "\n",
    "#Algorithm KMEANS\n",
    "\n",
    "from pyspark.ml.clustering import KMeans\n",
    "kmeans2= KMeans(featuresCol='scaledFeatures',k=2)\n",
    "kmeans3 = KMeans(featuresCol='scaledFeatures',k=3)\n",
    "kmeans4 = KMeans(featuresCol='scaledFeatures',k=4)"
   ]
  },
  {
   "cell_type": "code",
   "execution_count": 53,
   "metadata": {},
   "outputs": [],
   "source": [
    "model_k3 = kmeans3.fit(cluster_final_data)\n",
    "model_k4 = kmeans4.fit(cluster_final_data)\n",
    "\n",
    "model2_k2=kmeans2.fit(cluster_final_data2)\n",
    "model2_k4=kmeans4.fit(cluster_final_data2)\n"
   ]
  },
  {
   "cell_type": "code",
   "execution_count": 54,
   "metadata": {},
   "outputs": [],
   "source": [
    "sqmean_k3 = model_k3.computeCost(cluster_final_data) #using sum of squared errors\n",
    "sqmean_k4 = model_k4.computeCost(cluster_final_data)\n",
    "\n",
    "\n",
    "sqmean2_k2 = model2_k2.computeCost(cluster_final_data2) #using sum of squared errors\n",
    "sqmean2_k4 = model2_k4.computeCost(cluster_final_data2)\n"
   ]
  },
  {
   "cell_type": "code",
   "execution_count": 56,
   "metadata": {},
   "outputs": [
    {
     "name": "stdout",
     "output_type": "stream",
     "text": [
      "For Dataset1-final1\n",
      "With K=3\n",
      "Within Set Sum of Squared Errors = 12061.234273296413\n",
      "------------------------------------------------------------\n",
      "With K=4\n",
      "Within Set Sum of Squared Errors = 10610.599664614203\n",
      "------------------------------------------------------------\n",
      "For Dataset2-final2\n",
      "With K=2\n",
      "Within Set Sum of Squared Errors = 483.9334025665447\n",
      "------------------------------------------------------------\n",
      "With K=4\n",
      "Within Set Sum of Squared Errors = 386.13277026650235\n"
     ]
    }
   ],
   "source": [
    "print(\"For Dataset1-final1\")\n",
    "\n",
    "print(\"With K=3\")\n",
    "print(\"Within Set Sum of Squared Errors = \" + str(sqmean_k3))\n",
    "print('--'*30)\n",
    "\n",
    "print(\"With K=4\")\n",
    "print(\"Within Set Sum of Squared Errors = \" + str(sqmean_k4))\n",
    "print('--'*30)\n",
    "\n",
    "print(\"For Dataset2-final2\")\n",
    "\n",
    "print(\"With K=2\")\n",
    "print(\"Within Set Sum of Squared Errors = \" + str(sqmean2_k2))\n",
    "print('--'*30)\n",
    "\n",
    "print(\"With K=4\")\n",
    "print(\"Within Set Sum of Squared Errors = \" + str(sqmean2_k4))"
   ]
  },
  {
   "cell_type": "code",
   "execution_count": 59,
   "metadata": {
    "scrolled": true
   },
   "outputs": [
    {
     "name": "stdout",
     "output_type": "stream",
     "text": [
      "For Dataset1-final1\n",
      "With K=2\n",
      "Within Set Sum of Squared Errors = 13247.838057725317\n",
      "------------------------------------------------------------\n",
      "With K=3\n",
      "Within Set Sum of Squared Errors = 12061.234273296413\n",
      "------------------------------------------------------------\n",
      "With K=4\n",
      "Within Set Sum of Squared Errors = 10610.599664614203\n",
      "------------------------------------------------------------\n",
      "With K=5\n",
      "Within Set Sum of Squared Errors = 9127.508459229699\n",
      "------------------------------------------------------------\n"
     ]
    }
   ],
   "source": [
    "print(\"For Dataset1-final1\")\n",
    "\n",
    "for k in range(2,6):\n",
    "    kmeans = KMeans(featuresCol='scaledFeatures',k=k)\n",
    "    model = kmeans.fit(cluster_final_data)\n",
    "    sqmean = model.computeCost(cluster_final_data)\n",
    "    \n",
    "    print(\"With K={}\".format(k))\n",
    "    print(\"Within Set Sum of Squared Errors = \" + str(sqmean))\n",
    "    print('--'*30)"
   ]
  },
  {
   "cell_type": "code",
   "execution_count": 60,
   "metadata": {},
   "outputs": [
    {
     "name": "stdout",
     "output_type": "stream",
     "text": [
      "For Dataset2-final2\n",
      "With K=2\n",
      "Within Set Sum of Squared Errors = 483.9334025665447\n",
      "------------------------------------------------------------\n",
      "With K=3\n",
      "Within Set Sum of Squared Errors = 404.8347293853801\n",
      "------------------------------------------------------------\n",
      "With K=4\n",
      "Within Set Sum of Squared Errors = 386.13277026650235\n",
      "------------------------------------------------------------\n",
      "With K=5\n",
      "Within Set Sum of Squared Errors = 339.0786747542979\n",
      "------------------------------------------------------------\n"
     ]
    }
   ],
   "source": [
    "print(\"For Dataset2-final2\")\n",
    "\n",
    "for k in range(2,6):\n",
    "    kmeans = KMeans(featuresCol='scaledFeatures',k=k)\n",
    "    model = kmeans.fit(cluster_final_data2)\n",
    "    sqmean = model.computeCost(cluster_final_data2)\n",
    "    \n",
    "    print(\"With K={}\".format(k))\n",
    "    print(\"Within Set Sum of Squared Errors = \" + str(sqmean))\n",
    "    print('--'*30)"
   ]
  },
  {
   "cell_type": "code",
   "execution_count": 13,
   "metadata": {
    "scrolled": true
   },
   "outputs": [
    {
     "name": "stdout",
     "output_type": "stream",
     "text": [
      "+----------+-----+\n",
      "|prediction|count|\n",
      "+----------+-----+\n",
      "|         1|  909|\n",
      "|         2|   75|\n",
      "|         0|  924|\n",
      "+----------+-----+\n",
      "\n"
     ]
    }
   ],
   "source": [
    "\n",
    "#Dataset1\n",
    "model_k3.transform(cluster_final_data).groupBy('prediction').count().show()"
   ]
  },
  {
   "cell_type": "code",
   "execution_count": 198,
   "metadata": {},
   "outputs": [
    {
     "name": "stdout",
     "output_type": "stream",
     "text": [
      "+----------+-----+\n",
      "|prediction|count|\n",
      "+----------+-----+\n",
      "|         1|  609|\n",
      "|         3|  882|\n",
      "|         2|  288|\n",
      "|         0|  129|\n",
      "+----------+-----+\n",
      "\n"
     ]
    }
   ],
   "source": [
    "model_k4.transform(cluster_final_data).groupBy('prediction').count().show()\n"
   ]
  },
  {
   "cell_type": "code",
   "execution_count": 61,
   "metadata": {
    "scrolled": true
   },
   "outputs": [
    {
     "name": "stdout",
     "output_type": "stream",
     "text": [
      "+----------+-----+\n",
      "|prediction|count|\n",
      "+----------+-----+\n",
      "|         1|   34|\n",
      "|         0|   30|\n",
      "+----------+-----+\n",
      "\n"
     ]
    }
   ],
   "source": [
    "#Dataset2\n",
    "model2_k2.transform(cluster_final_data2).groupBy('prediction').count().show()"
   ]
  },
  {
   "cell_type": "code",
   "execution_count": 199,
   "metadata": {},
   "outputs": [
    {
     "name": "stdout",
     "output_type": "stream",
     "text": [
      "+----------+-----+\n",
      "|prediction|count|\n",
      "+----------+-----+\n",
      "|         1|   13|\n",
      "|         3|   25|\n",
      "|         2|    5|\n",
      "|         0|   21|\n",
      "+----------+-----+\n",
      "\n"
     ]
    }
   ],
   "source": [
    "model2_k4.transform(cluster_final_data2).groupBy('prediction').count().show()\n"
   ]
  },
  {
   "cell_type": "code",
   "execution_count": 200,
   "metadata": {
    "scrolled": true
   },
   "outputs": [
    {
     "name": "stdout",
     "output_type": "stream",
     "text": [
      "+-------+----+-----+----------+----------+------+--------+---------+--------+-------------+---------+----------+----------------+------------+\n",
      "|Country|TIME|  Sex|GDPsubject| GDP Value|Impexp|    Cost|pte_value|se_value|Country_Index|Sex_Index|TIME_Index|GDPsubject_Index|Impexp_Index|\n",
      "+-------+----+-----+----------+----------+------+--------+---------+--------+-------------+---------+----------+----------------+------------+\n",
      "|    AUS|2013|WOMEN|       TOT|1102723.05|   IMP|246949.7|    38.14|    7.89|         30.0|      1.0|       1.0|             0.0|         0.0|\n",
      "|    AUS|2013|  MEN|       TOT|1102723.05|   IMP|246949.7|    13.65|   11.97|         30.0|      2.0|       1.0|             0.0|         0.0|\n",
      "|    AUS|2013|  TOT|       TOT|1102723.05|   IMP|246949.7|    24.88|    10.1|         30.0|      0.0|       1.0|             0.0|         0.0|\n",
      "|    AUS|2013|WOMEN|       TOT|1102723.05|   EXP|254201.7|    38.14|    7.89|         30.0|      1.0|       1.0|             0.0|         1.0|\n",
      "|    AUS|2013|  MEN|       TOT|1102723.05|   EXP|254201.7|    13.65|   11.97|         30.0|      2.0|       1.0|             0.0|         1.0|\n",
      "|    AUS|2013|  TOT|       TOT|1102723.05|   EXP|254201.7|    24.88|    10.1|         30.0|      0.0|       1.0|             0.0|         1.0|\n",
      "|    AUS|2014|WOMEN|       TOT|1116293.11|   IMP|238300.4|    38.33|    7.98|         30.0|      1.0|       0.0|             0.0|         0.0|\n",
      "|    AUS|2014|  MEN|       TOT|1116293.11|   IMP|238300.4|    14.03|   12.05|         30.0|      2.0|       0.0|             0.0|         0.0|\n",
      "|    AUS|2014|  TOT|       TOT|1116293.11|   IMP|238300.4|    25.21|   10.18|         30.0|      0.0|       0.0|             0.0|         0.0|\n",
      "|    AUS|2014|WOMEN|       TOT|1116293.11|   EXP|240425.8|    38.33|    7.98|         30.0|      1.0|       0.0|             0.0|         1.0|\n",
      "|    AUS|2014|  MEN|       TOT|1116293.11|   EXP|240425.8|    14.03|   12.05|         30.0|      2.0|       0.0|             0.0|         1.0|\n",
      "|    AUS|2014|  TOT|       TOT|1116293.11|   EXP|240425.8|    25.21|   10.18|         30.0|      0.0|       0.0|             0.0|         1.0|\n",
      "|    AUS|2015|WOMEN|       TOT|1128361.01|   IMP|207262.8|    37.97|    8.15|         30.0|      1.0|       2.0|             0.0|         0.0|\n",
      "|    AUS|2015|  MEN|       TOT|1128361.01|   IMP|207262.8|    14.29|   12.11|         30.0|      2.0|       2.0|             0.0|         0.0|\n",
      "|    AUS|2015|  TOT|       TOT|1128361.01|   IMP|207262.8|    25.24|   10.28|         30.0|      0.0|       2.0|             0.0|         0.0|\n",
      "|    AUS|2015|WOMEN|       TOT|1128361.01|   EXP|188096.6|    37.97|    8.15|         30.0|      1.0|       2.0|             0.0|         1.0|\n",
      "|    AUS|2015|  MEN|       TOT|1128361.01|   EXP|188096.6|    14.29|   12.11|         30.0|      2.0|       2.0|             0.0|         1.0|\n",
      "|    AUS|2015|  TOT|       TOT|1128361.01|   EXP|188096.6|    25.24|   10.28|         30.0|      0.0|       2.0|             0.0|         1.0|\n",
      "|    AUS|2016|WOMEN|       TOT|1181218.13|   IMP|198519.0|    38.35|    8.13|         30.0|      1.0|       3.0|             0.0|         0.0|\n",
      "|    AUS|2016|  MEN|       TOT|1181218.13|   IMP|198519.0|    15.06|   11.71|         30.0|      2.0|       3.0|             0.0|         0.0|\n",
      "+-------+----+-----+----------+----------+------+--------+---------+--------+-------------+---------+----------+----------------+------------+\n",
      "only showing top 20 rows\n",
      "\n"
     ]
    }
   ],
   "source": [
    "\n",
    "## step 7\n",
    "##  Dataset 1-final1-Finding patterns\n",
    "\n",
    "indexed.show() #This table can be used to find Country corresponding to Country_Index\n",
    "\n",
    "\n"
   ]
  },
  {
   "cell_type": "code",
   "execution_count": 201,
   "metadata": {
    "scrolled": true
   },
   "outputs": [
    {
     "name": "stdout",
     "output_type": "stream",
     "text": [
      "+----------+--------------+---------+--------------+-------------+--------------+---------------+---------------+-----------------+------------------+---------------+\n",
      "|prediction|max(GDP Value)|max(Cost)|max(pte_value)|max(se_value)|max(Sex_Index)|max(TIME_Index)|max(GDPsubject)|max(Impexp_Index)|max(Country_Index)|max(prediction)|\n",
      "+----------+--------------+---------+--------------+-------------+--------------+---------------+---------------+-----------------+------------------+---------------+\n",
      "|         1|    5369478.82|1479837.0|          19.5|        32.72|             2|              4|              0|                1|                31|              1|\n",
      "|         3|    5487161.17|1177082.0|         61.14|        26.47|             1|              4|              0|                1|                35|              3|\n",
      "|         2|    3306567.32| 618156.9|         28.39|        53.26|             2|              4|              0|                1|                32|              2|\n",
      "|         0|        2.11E7|2253855.0|         61.14|        20.09|             2|              4|              0|                1|                25|              0|\n",
      "+----------+--------------+---------+--------------+-------------+--------------+---------------+---------------+-----------------+------------------+---------------+\n",
      "\n"
     ]
    }
   ],
   "source": [
    "#By using max function we are able to get maximum values in each of the 4 clusters\n",
    "\n",
    "model_k4.transform(cluster_final_data).groupBy('prediction').max().show()   \n",
    "\n",
    "\n"
   ]
  },
  {
   "cell_type": "code",
   "execution_count": 202,
   "metadata": {
    "scrolled": true
   },
   "outputs": [
    {
     "name": "stdout",
     "output_type": "stream",
     "text": [
      "+----------+-------------+-------------+-------------+-------------+-------------+-------------+------------+------------+------------+------------+------------+------------+--------------+--------------+--------------+--------------+--------------+--------------+--------------+--------------+-------------+-------------+-------------+-------------+-------------+-------------+------------+-------------+-------------+----------------------------------+-----------------------------+--------------------------+-----------------------------------------+-------------------------------------------------+-----------------------------------------------+---------------------------------------------+-------------------------------------------+------------------+---------------+---------------+\n",
      "|prediction|min(2011_fte)|min(2012_fte)|min(2013_fte)|min(2014_fte)|min(2015_fte)|min(2016_fte)|min(2011gwg)|min(2012gwg)|min(2013gwg)|min(2014gwg)|min(2015gwg)|min(2016gwg)|min(2000_gnif)|min(2005_gnif)|min(2010_gnif)|min(2011_gnif)|min(2012_gnif)|min(2013_gnif)|min(2014_gnif)|min(2015_gnif)|min(2000_gni)|min(2005_gni)|min(2010_gni)|min(2011_gni)|min(2012_gni)|min(2013_gni)|min(2014gni)|min(2015_gni)|min(GII Rank)|min(Gender Inequality Index (GII))|min(Maternal Mortality Ratio)|min(Adolescent Birth Rate)|min(Percent Representation in Parliament)|min(Population with Secondary Education (Female))|min(Population with Secondary Education (Male))|min(Labour Force Participation Rate (Female))|min(Labour Force Participation Rate (Male))|min(Country_Index)|min(Sex_Index_)|min(prediction)|\n",
      "+----------+-------------+-------------+-------------+-------------+-------------+-------------+------------+------------+------------+------------+------------+------------+--------------+--------------+--------------+--------------+--------------+--------------+--------------+--------------+-------------+-------------+-------------+-------------+-------------+-------------+------------+-------------+-------------+----------------------------------+-----------------------------+--------------------------+-----------------------------------------+-------------------------------------------------+-----------------------------------------------+---------------------------------------------+-------------------------------------------+------------------+---------------+---------------+\n",
      "|         1|         38.5|         38.6|         38.0|         38.2|         38.7|         39.4|         5.8|         6.4|         5.9|         3.3|         4.7|         4.5|          6869|          5993|          9312|          9961|         10004|          9674|         10425|         10649|        18228|        20662|        21150|        21469|        21864|        21542|       21806|        22115|           21|                             0.063|                            3|                       4.0|                                     10.1|                                             39.0|                                           60.0|                                         29.4|                                       59.3|               0.0|            0.0|              1|\n",
      "|         3|         42.4|         42.7|         42.6|         42.4|         42.5|         43.5|         4.5|         5.9|         5.9|         3.3|         4.7|         7.8|          8579|         13656|         15025|         16253|         16383|         16885|         17239|         17793|        13804|        21092|        21914|        23246|        24390|        25487|       26442|        27034|            1|                             0.016|                            2|                       0.6|                                     10.1|                                             66.8|                                           73.1|                                         44.8|                                       59.3|               1.0|            0.0|              3|\n",
      "|         2|         28.8|         29.7|         30.3|         30.6|         31.8|         32.3|        10.0|        13.6|        10.7|         6.9|    14.08125|    14.08125|          6869|          5993|          9312|          9961|         10004|          9674|         10425|         10649|        18953|        20662|        21150|        21469|        21864|        21542|       21806|        22115|           42|                             0.111|                            8|                      12.6|                                     14.4|                                             39.0|                                           48.2|                                         29.4|                                       66.2|               8.0|            0.0|              2|\n",
      "|         0|         58.6|         60.7|         63.2|         64.9|         66.8|         67.7|         4.5|         5.9|         6.6|         3.4|         5.8|         7.8|          8579|         13656|         15025|         16253|         16966|         17689|         18243|         18822|        13804|        21092|        21914|        23246|        24390|        25487|       26442|        27034|            1|                             0.016|                            2|                       0.6|                                     18.0|                                             80.5|                                           78.6|                                         50.7|                                       63.2|               1.0|            1.0|              0|\n",
      "+----------+-------------+-------------+-------------+-------------+-------------+-------------+------------+------------+------------+------------+------------+------------+--------------+--------------+--------------+--------------+--------------+--------------+--------------+--------------+-------------+-------------+-------------+-------------+-------------+-------------+------------+-------------+-------------+----------------------------------+-----------------------------+--------------------------+-----------------------------------------+-------------------------------------------------+-----------------------------------------------+---------------------------------------------+-------------------------------------------+------------------+---------------+---------------+\n",
      "\n"
     ]
    }
   ],
   "source": [
    "## for dataset2-final2\n",
    "\n",
    "model2_k4.transform(cluster_final_data2).groupBy('prediction').min().show()\n",
    "\n",
    "#gives us min values as per 4 clusters -0,1,2,3"
   ]
  },
  {
   "cell_type": "code",
   "execution_count": 203,
   "metadata": {},
   "outputs": [
    {
     "name": "stdout",
     "output_type": "stream",
     "text": [
      "+--------+----------+----------+\n",
      "| 2015gwg|prediction|Sex_Index_|\n",
      "+--------+----------+----------+\n",
      "|    13.0|         0|       1.0|\n",
      "|    13.0|         3|       0.0|\n",
      "|    17.0|         0|       1.0|\n",
      "|    17.0|         3|       0.0|\n",
      "|     4.7|         1|       1.0|\n",
      "|     4.7|         3|       0.0|\n",
      "|    21.1|         1|       1.0|\n",
      "|    21.1|         2|       0.0|\n",
      "|    16.5|         0|       1.0|\n",
      "|    16.5|         3|       0.0|\n",
      "|     5.8|         0|       1.0|\n",
      "|     5.8|         3|       0.0|\n",
      "|14.08125|         0|       1.0|\n",
      "|14.08125|         3|       0.0|\n",
      "|    18.1|         0|       1.0|\n",
      "|    18.1|         3|       0.0|\n",
      "|14.08125|         1|       1.0|\n",
      "|14.08125|         3|       0.0|\n",
      "|    15.8|         0|       1.0|\n",
      "|    15.8|         3|       0.0|\n",
      "+--------+----------+----------+\n",
      "only showing top 20 rows\n",
      "\n",
      "+--------+----------+----------+\n",
      "|2015_fte|prediction|Sex_Index_|\n",
      "+--------+----------+----------+\n",
      "|    77.9|         0|       1.0|\n",
      "|    52.1|         3|       0.0|\n",
      "|    76.5|         0|       1.0|\n",
      "|    53.5|         3|       0.0|\n",
      "|    66.4|         1|       1.0|\n",
      "|    48.2|         3|       0.0|\n",
      "|    81.0|         1|       1.0|\n",
      "|    49.8|         2|       0.0|\n",
      "|    81.4|         0|       1.0|\n",
      "|    60.1|         3|       0.0|\n",
      "|    68.2|         0|       1.0|\n",
      "|    54.6|         3|       0.0|\n",
      "|    75.3|         0|       1.0|\n",
      "|    63.6|         3|       0.0|\n",
      "|    67.4|         0|       1.0|\n",
      "|    59.1|         3|       0.0|\n",
      "|    67.5|         1|       1.0|\n",
      "|    52.4|         3|       0.0|\n",
      "|    76.6|         0|       1.0|\n",
      "|    53.2|         3|       0.0|\n",
      "+--------+----------+----------+\n",
      "only showing top 20 rows\n",
      "\n"
     ]
    }
   ],
   "source": [
    "#Here it is seen that according to gender the gwg is given 2 different cluster(eg. first 2 rows),though it is having same value\n",
    "#This does not seem to be accurate (can try not keeping gender with variable not affected by gender)\n",
    "\n",
    "model2_k4.transform(cluster_final_data2).select('2015gwg','prediction','Sex_Index_').show() \n",
    "\n",
    "\n",
    "#But when seen with full-timeemployment column it seems accurate\n",
    "#The cluster 2,3 is given to WOMEN(Sexindex=0) and 0,1 is given to MEN(Sexindex=1)\n",
    "\n",
    "model2_k4.transform(cluster_final_data2).select('2015_fte','prediction','Sex_Index_').show() \n",
    "\n"
   ]
  },
  {
   "cell_type": "code",
   "execution_count": 3,
   "metadata": {
    "scrolled": false
   },
   "outputs": [
    {
     "data": {
      "text/plain": [
       "array([1, 1, 1, ..., 1, 1, 1], dtype=int32)"
      ]
     },
     "execution_count": 3,
     "metadata": {},
     "output_type": "execute_result"
    }
   ],
   "source": [
    "##########################Clustering using sklearn for getting better visuals###########################3\n",
    "\n",
    "#Algorithm -KMEANS\n",
    "\n",
    "import pandas as pd\n",
    "import numpy as np\n",
    "import matplotlib \n",
    "import matplotlib.pyplot as plt\n",
    "%matplotlib inline\n",
    "from sklearn.cluster import KMeans\n",
    "from sklearn.metrics import accuracy_score\n",
    "\n",
    "#converting to panda frame\n",
    "finalp=pd.read_csv('finindexed.csv')\n",
    "\n",
    "#Assigning number of clusters\n",
    "a=KMeans(n_clusters=3)\n",
    "a.fit(finalp)\n",
    "a.labels_\n"
   ]
  },
  {
   "cell_type": "code",
   "execution_count": 4,
   "metadata": {
    "scrolled": false
   },
   "outputs": [
    {
     "data": {
      "image/png": "[encoded data removed]",
      "text/plain": [
       "<Figure size 432x288 with 1 Axes>"
      ]
     },
     "metadata": {},
     "output_type": "display_data"
    }
   ],
   "source": [
    "#dataset1\n",
    "\n",
    "#Creating a scater plot\n",
    "%matplotlib inline\n",
    "\n",
    "#colormap=np.array(['Red','Blue','Green'])\n",
    "\n",
    "z0=plt.scatter(finalp.pte_value,finalp.Sex_Index,finalp.TIME_Index) #x=pte,y=Sex and third parameter time\n",
    "\n",
    "#Gives us 3 clusters on the basis of3input features"
   ]
  },
  {
   "cell_type": "code",
   "execution_count": 5,
   "metadata": {
    "scrolled": true
   },
   "outputs": [
    {
     "data": {
      "image/png": "[encoded data removed]",
      "text/plain": [
       "<Figure size 432x288 with 1 Axes>"
      ]
     },
     "metadata": {},
     "output_type": "display_data"
    }
   ],
   "source": [
    "\n",
    "z1=plt.scatter(finalp.se_value,finalp.Cost,s=finalp.Impexp_Index,c=\"Red\") #x=se,y=Cost and Impexp index as s\n",
    "\n",
    "#We can clearly see 3 clusters, and by seeing data it can be assumed that\n",
    "#most resides at position with low self employment rate and low export cost"
   ]
  },
  {
   "cell_type": "code",
   "execution_count": 7,
   "metadata": {
    "scrolled": true
   },
   "outputs": [
    {
     "data": {
      "image/png": "[encoded data removed]",
      "text/plain": [
       "<Figure size 432x288 with 1 Axes>"
      ]
     },
     "metadata": {},
     "output_type": "display_data"
    }
   ],
   "source": [
    "z2=plt.scatter(finalp.pte_value,finalp.Country_Index,s=finalp.Sex_Index,c=\"Yellow\") #x=pte,y=Country\n",
    "                                                                                     #and time is given to s\n",
    "    \n",
    "    #shows that part-time employment rate mostly is less than 30 % in most countries"
   ]
  },
  {
   "cell_type": "code",
   "execution_count": 10,
   "metadata": {
    "scrolled": true
   },
   "outputs": [
    {
     "data": {
      "text/plain": [
       "array([1, 1, 1, 1, 1, 1, 2, 2, 2, 2, 1, 1, 2, 2, 1, 1, 1, 1, 1, 1, 2, 2,\n",
       "       2, 2, 1, 1, 1, 1, 2, 2, 1, 1, 2, 2, 2, 2, 0, 0, 2, 2, 1, 1, 2, 2,\n",
       "       0, 0, 2, 2, 2, 2, 2, 2, 1, 1, 1, 1, 0, 0, 2, 2, 1, 1, 0, 0],\n",
       "      dtype=int32)"
      ]
     },
     "execution_count": 10,
     "metadata": {},
     "output_type": "execute_result"
    }
   ],
   "source": [
    "#dataset2\n",
    "import pandas as pd\n",
    "import numpy as np\n",
    "import matplotlib \n",
    "import matplotlib.pyplot as plt\n",
    "%matplotlib inline\n",
    "from sklearn.cluster import KMeans\n",
    "from sklearn.metrics import accuracy_score\n",
    "## dataset2-final2\n",
    "\n",
    "finalp2=pd.read_csv('fi2.csv/fin2')\n",
    "#Assigning number of clusters\n",
    "b=KMeans(n_clusters=3) #creating 3 clusters\n",
    "b.fit(finalp2)\n",
    "b.labels_\n",
    "\n",
    "\n"
   ]
  },
  {
   "cell_type": "code",
   "execution_count": 17,
   "metadata": {
    "scrolled": true
   },
   "outputs": [
    {
     "data": {
      "image/png": "[encoded data removed]",
      "text/plain": [
       "<Figure size 432x288 with 1 Axes>"
      ]
     },
     "metadata": {},
     "output_type": "display_data"
    }
   ],
   "source": [
    "\n",
    "\n",
    "#Creating a scater plot\n",
    "%matplotlib inline\n",
    "finalp2=pd.read_csv('fi2.csv/fin2')\n",
    "y=finalp2['Population with Secondary Education (Female)']                      \n",
    "x=finalp2['Percent Representation in Parliament']\n",
    "z=finalp2['Maternal Mortality Ratio']\n",
    "\n",
    "colormap=np.array(['Red','Blue','Green'])\n",
    "\n",
    "z3= plt.scatter (x,y,z,c=colormap[b.labels_])\n",
    "\n",
    "#clearly shows that with high education level in female, the % in parliament stays between 10-45%\n",
    "\n"
   ]
  },
  {
   "cell_type": "code",
   "execution_count": 16,
   "metadata": {
    "scrolled": true
   },
   "outputs": [
    {
     "data": {
      "image/png": "[encoded data removed]",
      "text/plain": [
       "<Figure size 432x288 with 1 Axes>"
      ]
     },
     "metadata": {},
     "output_type": "display_data"
    }
   ],
   "source": [
    "z=finalp2['Maternal Mortality Ratio']\n",
    "y=finalp2['Country_Index']\n",
    "x=finalp2['Labour Force Participation Rate (Female)']\n",
    "#w=finalp2['Sex_Index']\n",
    "colormap=np.array(['BLUE','Yellow','red'])\n",
    "\n",
    "z3= plt.scatter (x,y,z,c=colormap[b.labels_])\n",
    "\n",
    "#the average labour force participation of female is between 45-60%\n",
    "\n",
    "#### notice the xaxis scale"
   ]
  },
  {
   "cell_type": "code",
   "execution_count": 15,
   "metadata": {},
   "outputs": [
    {
     "data": {
      "image/png": "[encoded data removed]",
      "text/plain": [
       "<Figure size 432x288 with 1 Axes>"
      ]
     },
     "metadata": {},
     "output_type": "display_data"
    }
   ],
   "source": [
    "z=finalp2['Maternal Mortality Ratio']\n",
    "y=finalp2['Country_Index']\n",
    "x=finalp2['Labour Force Participation Rate (Male)']\n",
    "#w=finalp2['Sex_Index']\n",
    "colormap=np.array(['BLUE','Yellow','GREEN'])\n",
    "\n",
    "z3= plt.scatter (x,y,z,c=colormap[b.labels_])\n",
    "\n",
    "#the average labour force participation of male is between 65-72%\n",
    "\n",
    "### notice the x axis scale\n"
   ]
  },
  {
   "cell_type": "code",
   "execution_count": 211,
   "metadata": {},
   "outputs": [
    {
     "name": "stdout",
     "output_type": "stream",
     "text": [
      "\n",
      "Within Set Sum of Squared Errors = 2408633023313541.5\n",
      "\n",
      "Cluster Centers: \n",
      "[6.27045541e+05 5.00000000e-01 9.65921193e-01 1.90202343e+00\n",
      " 2.97181177e+05 1.67586581e+01 1.78723323e+01 1.57965921e+01]\n",
      "[1.97200000e+07 5.00000000e-01 1.00000000e+00 2.00000000e+00\n",
      " 2.08680300e+06 1.76613333e+01 1.58746667e+01 5.00000000e+00]\n"
     ]
    }
   ],
   "source": [
    "#Algorithm BisectingKMEANS\n",
    "\n",
    "#Dataset1\n",
    "from pyspark.ml.clustering import BisectingKMeans\n",
    "\n",
    "\n",
    "# Trains a bisecting k-means model.\n",
    "bkm = BisectingKMeans().setK(2).setSeed(1) #for 2 clusters\n",
    "model = bkm.fit(final1_data)\n",
    "\n",
    "# Evaluate clustering.\n",
    "cost = model.computeCost(final1_data)\n",
    "print(\"\\nWithin Set Sum of Squared Errors = \" + str(cost))\n",
    "\n",
    "# Shows the result.\n",
    "print(\"\\nCluster Centers: \")\n",
    "centers = model.clusterCenters()\n",
    "for center in centers:\n",
    "    print(center)\n"
   ]
  },
  {
   "cell_type": "code",
   "execution_count": 212,
   "metadata": {},
   "outputs": [
    {
     "name": "stdout",
     "output_type": "stream",
     "text": [
      "\n",
      "Within Set Sum of Squared Errors = 2346621755.6898403\n",
      "\n",
      "Cluster Centers: \n",
      "[2.80931429e+04 1.55927143e+04 5.00000000e-01 6.28071429e+01\n",
      " 1.97857143e+01 7.19571429e+01 7.81714286e+01 1.62857143e+01\n",
      " 4.52142857e+01 6.86428571e+01]\n",
      "[3.64594444e+04 2.29870000e+04 5.00000000e-01 6.43166667e+01\n",
      " 2.70111111e+01 8.33222222e+01 8.62666667e+01 1.37777778e+01\n",
      " 5.35888889e+01 6.69000000e+01]\n",
      "[5.16308333e+04 3.28205000e+04 5.00000000e-01 6.40375000e+01\n",
      " 3.42916667e+01 9.05916667e+01 9.18500000e+01 1.70000000e+01\n",
      " 5.64750000e+01 6.74916667e+01]\n",
      "[7.07730e+04 4.91115e+04 5.00000e-01 6.51625e+01 2.89500e+01 9.68750e+01\n",
      " 9.70250e+01 1.35000e+01 5.75000e+01 6.92750e+01]\n"
     ]
    }
   ],
   "source": [
    "#Dataset2\n",
    "from pyspark.ml.clustering import BisectingKMeans\n",
    "\n",
    "\n",
    "# Trains a bisecting k-means model.\n",
    "bkm = BisectingKMeans().setK(4).setSeed(1) #for 4 clusters\n",
    "model = bkm.fit(final2_data)\n",
    "\n",
    "# Evaluate clustering.\n",
    "cost = model.computeCost(final2_data)\n",
    "print(\"\\nWithin Set Sum of Squared Errors = \" + str(cost))\n",
    "\n",
    "# Shows the result.\n",
    "print(\"\\nCluster Centers: \")\n",
    "centers = model.clusterCenters()\n",
    "for center in centers:\n",
    "    print(center)"
   ]
  },
  {
   "cell_type": "code",
   "execution_count": null,
   "metadata": {},
   "outputs": [],
   "source": []
  }
 ],
 "metadata": {
  "kernelspec": {
   "display_name": "Python 3",
   "language": "python",
   "name": "python3"
  },
  "language_info": {
   "codemirror_mode": {
    "name": "ipython",
    "version": 3
   },
   "file_extension": ".py",
   "mimetype": "text/x-python",
   "name": "python",
   "nbconvert_exporter": "python",
   "pygments_lexer": "ipython3",
   "version": "3.5.2"
  }
 },
 "nbformat": 4,
 "nbformat_minor": 2
}
