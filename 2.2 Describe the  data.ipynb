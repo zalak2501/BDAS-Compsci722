{
 "cells": [
  {
   "cell_type": "code",
   "execution_count": 1,
   "metadata": {},
   "outputs": [],
   "source": [
    "import findspark\n",
    "findspark.init('/home/ubuntu/spark-2.3.2-bin-hadoop2.7')\n",
    "import pyspark\n",
    "from pyspark.sql import SparkSession\n",
    "spark = SparkSession.builder.appName('Data Understanding').getOrCreate() "
   ]
  },
  {
   "cell_type": "markdown",
   "metadata": {},
   "source": [
    "Importing all the data sets\n"
   ]
  },
  {
   "cell_type": "code",
   "execution_count": 2,
   "metadata": {},
   "outputs": [],
   "source": [
    "\n",
    "fte  = spark.read.csv(\"My datasets/full-time_employ_rate.csv\",header=True,inferSchema=True)\n",
    "gwg = spark.read.csv(\"My datasets/Gender wage gap.csv\", header=True,inferSchema=True)\n",
    "gnif = spark.read.csv(\"My datasets/GNI_female.csv\", header=True,inferSchema=True)\n",
    "impexp= spark.read.csv(\"My datasets/Importexport_cost.csv\", header=True,inferSchema=True)\n",
    "gnim = spark.read.csv(\"My datasets/GNI_male.csv\", header=True,inferSchema=True)\n",
    "grad= spark.read.csv(\"My datasets/Graduation_rate.csv\", header=True,inferSchema=True)\n",
    "inequality= spark.read.csv(\"My datasets/Gender_inequality.csv\", header=True,inferSchema=True)\n",
    "gdp = spark.read.csv(\"My datasets/Gross Domestic Product.csv\", header=True,inferSchema=True)\n",
    "gnim = spark.read.csv(\"My datasets/GNI_male.csv\", header=True,inferSchema=True)\n",
    "pte = spark.read.csv(\"My datasets/Parttime_employment.csv\", header=True,inferSchema=True)\n",
    "se = spark.read.csv(\"My datasets/Selfemployment.csv\", header=True,inferSchema=True)\n",
    "\n",
    "\n",
    "\n",
    "\n",
    "\n",
    "\n",
    "\n"
   ]
  },
  {
   "cell_type": "code",
   "execution_count": 7,
   "metadata": {},
   "outputs": [
    {
     "name": "stdout",
     "output_type": "stream",
     "text": [
      "+--------------+-----+--------+--------+--------+--------+--------+--------+--------+--------+--------+--------+--------+--------+--------+--------+--------+--------+--------+--------+--------+--------+--------+--------+\n",
      "|       Country|  Sex|1995_fte|1996_fte|1997_fte|1998_fte|1999_fte|2000_fte|2001_fte|2002_fte|2003_fte|2004_fte|2005_fte|2006_fte|2007_fte|2008_fte|2009_fte|2010_fte|2011_fte|2012_fte|2013_fte|2014_fte|2015_fte|2016_fte|\n",
      "+--------------+-----+--------+--------+--------+--------+--------+--------+--------+--------+--------+--------+--------+--------+--------+--------+--------+--------+--------+--------+--------+--------+--------+--------+\n",
      "|     Australia|  Men|    null|    null|    null|    null|    null|    null|    80.3|    80.2|    80.5|    80.8|    81.6|    81.4|    82.3|    82.3|    79.4|    80.0|    80.2|    79.8|    78.7|    77.7|    77.9|    77.2|\n",
      "|     Australia|Women|    null|    null|    null|    null|    null|    null|    47.9|    48.0|    48.7|    49.0|    50.2|    51.0|    51.8|    52.4|    51.6|    51.3|    51.8|    51.8|    51.7|    51.1|    52.1|    52.3|\n",
      "|       Austria|  Men|    80.6|    79.6|    79.7|    79.2|    79.9|    79.6|    78.4|    78.1|    77.9|    80.4|    80.4|    81.5|    82.4|    82.0|    80.0|    79.8|    80.0|    79.6|    78.4|    76.9|    76.5|    76.7|\n",
      "|       Austria|Women|    52.9|    52.4|    52.6|    52.0|    52.1|    52.1|    51.9|    52.6|    52.7|    51.3|    51.8|    52.5|    53.3|    54.1|    53.7|    53.8|    54.0|    54.3|    54.1|    53.5|    53.5|    54.0|\n",
      "|       Belgium|  Men|    67.9|    67.4|    68.1|    69.0|    68.6|    70.7|    70.1|    69.7|    68.4|    68.9|    69.2|    68.7|    69.7|    69.0|    67.5|    68.2|    67.9|    67.8|    67.9|    66.9|    66.4|    67.2|\n",
      "|       Belgium|Women|    38.1|    37.9|    38.9|    39.9|    41.0|    42.0|    41.7|    42.6|    42.4|    42.6|    43.9|    43.7|    45.4|    45.8|    45.9|    46.4|    46.3|    46.5|    47.2|    48.0|    48.2|    48.2|\n",
      "|         Chile|  Men|    null|    92.0|    90.5|    90.6|    85.9|    85.2|    84.4|    83.9|    83.9|    83.2|    80.7|    82.4|    82.6|    82.6|    79.2|    81.6|    83.2|    83.1|    82.9|    81.2|    81.0|    79.5|\n",
      "|         Chile|Women|    null|    39.8|    40.4|    41.2|    40.0|    40.2|    39.5|    39.7|    40.7|    41.4|    41.5|    42.7|    43.7|    45.3|    44.7|    45.2|    47.6|    48.9|    49.6|    49.9|    49.8|    49.6|\n",
      "|Czech Republic|  Men|    null|    null|    null|    null|    null|    null|    null|    80.8|    80.5|    null|    79.5|    79.9|    81.1|    81.7|    79.5|    78.6|    78.9|    79.1|    79.5|    80.6|    81.4|    82.7|\n",
      "|Czech Republic|Women|    null|    null|    null|    null|    null|    null|    null|    56.4|    55.7|    null|    55.7|    56.0|    56.5|    56.8|    55.5|    54.9|    55.8|    56.5|    57.3|    58.3|    60.1|    61.8|\n",
      "|       Denmark|  Men|    77.8|    77.0|    76.6|    76.6|    78.0|    78.3|    78.0|    77.1|    76.5|    76.4|    76.5|    77.4|    73.9|    73.8|    69.8|    67.8|    68.1|    67.1|    66.9|    67.4|    68.2|    67.7|\n",
      "|       Denmark|Women|    54.1|    54.4|    56.2|    56.4|    58.5|    58.9|    59.5|    58.9|    57.6|    57.6|    58.2|    59.1|    58.2|    58.7|    57.1|    55.4|    54.9|    54.7|    54.8|    54.3|    54.6|    55.1|\n",
      "|       Estonia|  Men|    null|    null|    null|    null|    null|    67.0|    67.4|    66.5|    68.1|    66.8|    67.7|    73.0|    75.1|    74.8|    64.3|    61.9|    68.1|    70.2|    71.5|    72.7|    75.3|    74.8|\n",
      "|       Estonia|Women|    null|    null|    null|    null|    null|    55.8|    56.0|    56.0|    56.9|    57.9|    60.3|    62.5|    62.9|    63.5|    59.3|    56.8|    58.5|    60.5|    61.7|    62.7|    63.6|    63.5|\n",
      "|       Finland|  Men|    null|    null|    null|    null|    null|    null|    71.5|    70.6|    70.1|    69.7|    71.0|    72.1|    71.7|    72.7|    67.7|    68.5|    69.5|    69.4|    67.4|    67.7|    67.4|    68.4|\n",
      "|       Finland|Women|    null|    null|    null|    null|    null|    null|    58.4|    59.4|    58.7|    58.3|    59.9|    60.3|    60.3|    61.0|    59.7|    58.7|    59.3|    59.6|    58.9|    59.1|    59.1|    58.5|\n",
      "|        France|  Men|    69.1|    68.8|    68.0|    68.1|    68.0|    68.2|    68.3|    66.8|    72.0|    71.5|    71.4|    71.2|    71.3|    71.7|    70.4|    70.1|    69.9|    69.6|    68.6|    67.8|    67.5|    68.0|\n",
      "|        France|Women|    44.9|    44.9|    44.4|    44.9|    45.3|    46.1|    46.5|    46.6|    50.0|    49.8|    50.2|    50.5|    51.5|    52.3|    51.7|    51.8|    51.8|    51.9|    51.8|    52.1|    52.4|    52.8|\n",
      "|       Germany|  Men|    75.3|    75.2|    74.3|    74.9|    74.9|    75.0|    74.4|    72.8|    70.5|    71.3|    71.7|    73.0|    74.7|    75.8|    75.6|    76.3|    77.5|    77.7|    77.2|    77.0|    76.6|    77.0|\n",
      "|       Germany|Women|    45.7|    45.9|    45.2|    45.5|    46.0|    46.4|    46.3|    46.1|    45.3|    45.5|    45.1|    46.4|    47.6|    48.7|    49.7|    50.4|    51.5|    51.8|    52.3|    53.0|    53.2|    54.1|\n",
      "+--------------+-----+--------+--------+--------+--------+--------+--------+--------+--------+--------+--------+--------+--------+--------+--------+--------+--------+--------+--------+--------+--------+--------+--------+\n",
      "only showing top 20 rows\n",
      "\n"
     ]
    }
   ],
   "source": [
    "# Full-time Employment rate of men and women in different years\n",
    "\n",
    "fte.show()"
   ]
  },
  {
   "cell_type": "code",
   "execution_count": 8,
   "metadata": {},
   "outputs": [
    {
     "name": "stdout",
     "output_type": "stream",
     "text": [
      "root\n",
      " |-- Country: string (nullable = true)\n",
      " |-- Sex: string (nullable = true)\n",
      " |-- 1995_fte: double (nullable = true)\n",
      " |-- 1996_fte: double (nullable = true)\n",
      " |-- 1997_fte: double (nullable = true)\n",
      " |-- 1998_fte: double (nullable = true)\n",
      " |-- 1999_fte: double (nullable = true)\n",
      " |-- 2000_fte: double (nullable = true)\n",
      " |-- 2001_fte: double (nullable = true)\n",
      " |-- 2002_fte: double (nullable = true)\n",
      " |-- 2003_fte: double (nullable = true)\n",
      " |-- 2004_fte: double (nullable = true)\n",
      " |-- 2005_fte: double (nullable = true)\n",
      " |-- 2006_fte: double (nullable = true)\n",
      " |-- 2007_fte: double (nullable = true)\n",
      " |-- 2008_fte: double (nullable = true)\n",
      " |-- 2009_fte: double (nullable = true)\n",
      " |-- 2010_fte: double (nullable = true)\n",
      " |-- 2011_fte: double (nullable = true)\n",
      " |-- 2012_fte: double (nullable = true)\n",
      " |-- 2013_fte: double (nullable = true)\n",
      " |-- 2014_fte: double (nullable = true)\n",
      " |-- 2015_fte: double (nullable = true)\n",
      " |-- 2016_fte: double (nullable = true)\n",
      "\n"
     ]
    }
   ],
   "source": [
    "fte.printSchema()\n"
   ]
  },
  {
   "cell_type": "code",
   "execution_count": 9,
   "metadata": {},
   "outputs": [
    {
     "name": "stdout",
     "output_type": "stream",
     "text": [
      "+-------+-------------+-----+------------------+-----------------+------------------+------------------+------------------+------------------+------------------+------------------+------------------+------------------+------------------+------------------+------------------+------------------+------------------+------------------+-----------------+------------------+------------------+------------------+------------------+------------------+\n",
      "|summary|      Country|  Sex|          1995_fte|         1996_fte|          1997_fte|          1998_fte|          1999_fte|          2000_fte|          2001_fte|          2002_fte|          2003_fte|          2004_fte|          2005_fte|          2006_fte|          2007_fte|          2008_fte|          2009_fte|          2010_fte|         2011_fte|          2012_fte|          2013_fte|          2014_fte|          2015_fte|          2016_fte|\n",
      "+-------+-------------+-----+------------------+-----------------+------------------+------------------+------------------+------------------+------------------+------------------+------------------+------------------+------------------+------------------+------------------+------------------+------------------+------------------+-----------------+------------------+------------------+------------------+------------------+------------------+\n",
      "|  count|           70|   70|                43|               47|                47|                47|                47|                57|                63|                67|                67|                65|                67|                69|                69|                69|                69|                69|               69|                69|                69|                69|                69|                69|\n",
      "|   mean|         null| null|  62.4953488372093|62.99574468085107|63.214893617021275|63.174468085106376| 63.51702127659574| 64.49649122807017| 64.15238095238094| 64.16865671641791|  64.0417910447761| 63.97384615384614| 64.67313432835822| 65.27681159420291|  65.6913043478261| 65.69420289855071|63.202898550724626| 62.53478260869565|62.79275362318843|  62.9014492753623| 62.93188405797099| 63.62898550724635|  64.3536231884058|  65.0478260869565|\n",
      "| stddev|         null| null|19.717045483882988|19.47887325380354| 19.11866807625928|18.486898628665866|17.945779680070313|17.275219296853685|16.586205472668148|15.737315324501669|15.467699964703876|15.361846781505848|15.164567774411271|15.904708375449667|15.643103527738337|15.033852819729399|13.791909083978661|13.704140916557652|13.64426532025753|13.489947158506627|13.351420862409489|13.230147185269876|13.143009545562554|12.993081968037183|\n",
      "|    min|    Australia|  Men|              30.3|             31.3|              32.5|              33.2|              33.9|              35.2|              36.5|              37.3|              37.3|              38.4|              38.5|              25.4|              24.8|              25.4|              25.2|              27.4|             28.8|              29.7|              30.3|              30.6|              31.8|              32.3|\n",
      "|    max|United States|Women|             104.7|            104.0|             101.7|              98.5|              99.1|             108.7|             106.1|             101.5|             101.6|             100.0|             103.1|             104.5|             105.2|             101.0|              90.8|              90.4|             90.2|              90.6|              91.8|              92.5|              95.1|              96.4|\n",
      "+-------+-------------+-----+------------------+-----------------+------------------+------------------+------------------+------------------+------------------+------------------+------------------+------------------+------------------+------------------+------------------+------------------+------------------+------------------+-----------------+------------------+------------------+------------------+------------------+------------------+\n",
      "\n"
     ]
    }
   ],
   "source": [
    "fte.describe().show()"
   ]
  },
  {
   "cell_type": "markdown",
   "metadata": {},
   "source": [
    "\"As it can be seen that due to large number of columns, an appropriate display is not seen. To solve this, I am selecting the full-time rate for just one year- 2016.\"\n"
   ]
  },
  {
   "cell_type": "code",
   "execution_count": 10,
   "metadata": {},
   "outputs": [
    {
     "name": "stdout",
     "output_type": "stream",
     "text": [
      "+-------+-------------+-----+------------------+\n",
      "|summary|      Country|  Sex|          2016_fte|\n",
      "+-------+-------------+-----+------------------+\n",
      "|  count|           70|   70|                69|\n",
      "|   mean|         null| null|  65.0478260869565|\n",
      "| stddev|         null| null|12.993081968037183|\n",
      "|    min|    Australia|  Men|              32.3|\n",
      "|    max|United States|Women|              96.4|\n",
      "+-------+-------------+-----+------------------+\n",
      "\n"
     ]
    }
   ],
   "source": [
    "fte.select('Country', 'Sex', '2016_fte').describe().show()"
   ]
  },
  {
   "cell_type": "code",
   "execution_count": 22,
   "metadata": {},
   "outputs": [
    {
     "name": "stdout",
     "output_type": "stream",
     "text": [
      "+--------+---------+-------+-------+---------+----+-----------+----------+\n",
      "|LOCATION|INDICATOR|SUBJECT|MEASURE|FREQUENCY|TIME|      Value|Flag Codes|\n",
      "+--------+---------+-------+-------+---------+----+-----------+----------+\n",
      "|     AUS|  PARTEMP|    TOT| PC_EMP|        A|2001|23.75882466|      null|\n",
      "|     AUS|  PARTEMP|    TOT| PC_EMP|        A|2002|24.02780547|      null|\n",
      "|     AUS|  PARTEMP|    TOT| PC_EMP|        A|2003|24.32089956|      null|\n",
      "|     AUS|  PARTEMP|    TOT| PC_EMP|        A|2004|23.76877202|      null|\n",
      "|     AUS|  PARTEMP|    TOT| PC_EMP|        A|2005|23.99514829|      null|\n",
      "|     AUS|  PARTEMP|    TOT| PC_EMP|        A|2006|23.93033535|      null|\n",
      "|     AUS|  PARTEMP|    TOT| PC_EMP|        A|2007| 23.7322899|      null|\n",
      "|     AUS|  PARTEMP|    TOT| PC_EMP|        A|2008| 23.7595516|      null|\n",
      "|     AUS|  PARTEMP|    TOT| PC_EMP|        A|2009|24.59863499|      null|\n",
      "|     AUS|  PARTEMP|    TOT| PC_EMP|        A|2010|24.84530824|      null|\n",
      "|     AUS|  PARTEMP|    TOT| PC_EMP|        A|2011|24.65798961|      null|\n",
      "|     AUS|  PARTEMP|    TOT| PC_EMP|        A|2012| 24.5643089|      null|\n",
      "|     AUS|  PARTEMP|    TOT| PC_EMP|        A|2013|24.88420388|      null|\n",
      "|     AUS|  PARTEMP|    TOT| PC_EMP|        A|2014|25.20848057|      null|\n",
      "|     AUS|  PARTEMP|    TOT| PC_EMP|        A|2015|25.24137393|      null|\n",
      "|     AUS|  PARTEMP|    TOT| PC_EMP|        A|2016|25.89578485|      null|\n",
      "|     AUS|  PARTEMP|    TOT| PC_EMP|        A|2017|25.73043633|      null|\n",
      "|     AUT|  PARTEMP|    TOT| PC_EMP|        A|1995|11.09849739|      null|\n",
      "|     AUT|  PARTEMP|    TOT| PC_EMP|        A|1996|10.90131819|      null|\n",
      "|     AUT|  PARTEMP|    TOT| PC_EMP|        A|1997|10.77208437|      null|\n",
      "+--------+---------+-------+-------+---------+----+-----------+----------+\n",
      "only showing top 20 rows\n",
      "\n"
     ]
    }
   ],
   "source": [
    "\n",
    "#PART-TIME EMPLOYMENT RATE DATASET\n",
    "pte.show()\n",
    "\n",
    "#subject has values - total, female, male\n",
    "#the columns- indicator, measure, frequency,flag codes are not quite useless\n",
    "#we will remove them in data transformation step"
   ]
  },
  {
   "cell_type": "code",
   "execution_count": 23,
   "metadata": {},
   "outputs": [
    {
     "name": "stdout",
     "output_type": "stream",
     "text": [
      "+--------+---------+-------+-------+---------+----+--------+----------+\n",
      "|LOCATION|INDICATOR|SUBJECT|MEASURE|FREQUENCY|TIME|   Value|Flag Codes|\n",
      "+--------+---------+-------+-------+---------+----+--------+----------+\n",
      "|     AUS|  SELFEMP|    MEN| PC_EMP|        A|1965|17.83953|      null|\n",
      "|     AUS|  SELFEMP|    MEN| PC_EMP|        A|1966|17.13011|      null|\n",
      "|     AUS|  SELFEMP|    MEN| PC_EMP|        A|1967|16.43956|      null|\n",
      "|     AUS|  SELFEMP|    MEN| PC_EMP|        A|1968|16.03339|      null|\n",
      "|     AUS|  SELFEMP|    MEN| PC_EMP|        A|1969|15.41714|      null|\n",
      "|     AUS|  SELFEMP|    MEN| PC_EMP|        A|1970|15.47962|      null|\n",
      "|     AUS|  SELFEMP|    MEN| PC_EMP|        A|1971|15.40121|      null|\n",
      "|     AUS|  SELFEMP|    MEN| PC_EMP|        A|1972|15.51151|      null|\n",
      "|     AUS|  SELFEMP|    MEN| PC_EMP|        A|1973|15.52738|      null|\n",
      "|     AUS|  SELFEMP|    MEN| PC_EMP|        A|1974| 15.9483|      null|\n",
      "|     AUS|  SELFEMP|    MEN| PC_EMP|        A|1975|15.97494|      null|\n",
      "|     AUS|  SELFEMP|    MEN| PC_EMP|        A|1976|17.00751|      null|\n",
      "|     AUS|  SELFEMP|    MEN| PC_EMP|        A|1977|17.65919|         B|\n",
      "|     AUS|  SELFEMP|    MEN| PC_EMP|        A|1978|17.12917|         B|\n",
      "|     AUS|  SELFEMP|    MEN| PC_EMP|        A|1979| 17.6967|      null|\n",
      "|     AUS|  SELFEMP|    MEN| PC_EMP|        A|1980|17.79001|      null|\n",
      "|     AUS|  SELFEMP|    MEN| PC_EMP|        A|1981|17.24004|      null|\n",
      "|     AUS|  SELFEMP|    MEN| PC_EMP|        A|1982|17.33805|      null|\n",
      "|     AUS|  SELFEMP|    MEN| PC_EMP|        A|1983|17.36829|      null|\n",
      "|     AUS|  SELFEMP|    MEN| PC_EMP|        A|1984|17.65301|      null|\n",
      "+--------+---------+-------+-------+---------+----+--------+----------+\n",
      "only showing top 20 rows\n",
      "\n"
     ]
    }
   ],
   "source": [
    "\n",
    "# SELF EMPLOYMENT RATE DATASET\n",
    "se.show()\n",
    "#location shows the countries\n",
    "#subject has values-total, female, male\n",
    "#time-years\n",
    "#Value-Partime employment rate\n",
    "\n",
    "#same useless columns as mentioned above are seen here"
   ]
  },
  {
   "cell_type": "code",
   "execution_count": 32,
   "metadata": {},
   "outputs": [
    {
     "name": "stdout",
     "output_type": "stream",
     "text": [
      "+--------------+----+----+----+----+----+----+----+----+----+----+----+----+----+----+----+----+----+\n",
      "|       Country|2000|2001|2002|2003|2004|2005|2006|2007|2008|2009|2010|2011|2012|2013|2014|2015|2016|\n",
      "+--------------+----+----+----+----+----+----+----+----+----+----+----+----+----+----+----+----+----+\n",
      "|     Australia|17.2|14.3|15.0|13.0|14.4|15.8|16.7|15.4|11.9|16.4|14.0|16.0|13.8|18.0|15.4|13.0|14.3|\n",
      "|       Austria|23.1|22.8|24.5|21.1|22.4|22.0|21.9|21.6|20.9|19.4|19.2|18.6|18.2|18.1|17.7|17.0|null|\n",
      "|       Belgium|13.6|13.2|11.6|15.2|11.8|11.5|10.3| 9.9| 8.9| 7.5| 7.0| 5.8| 6.4| 5.9| 3.3| 4.7|null|\n",
      "|        Canada|23.9|24.3|24.0|22.5|22.7|21.3|21.1|20.8|20.5|20.1|19.0|19.2|19.5|19.3|19.2|18.6|18.2|\n",
      "|         Chile| 6.1|null|null| 1.7|null|null| 5.6|null|null| 9.1|null|16.0|null|10.7|null|21.1|null|\n",
      "|Czech Republic|19.1|16.9|16.0|15.6|16.1|15.9|15.4|16.9|17.9|15.1|15.8|16.3|15.3|15.4|16.3|16.5|16.3|\n",
      "|       Denmark|null|null|10.8| 9.9|10.2|10.2|10.2| 9.9|10.2|10.2| 8.9| 7.9| 7.0| 6.8| 6.3| 5.8|null|\n",
      "|       Estonia|null|null|25.0|null|null|null|29.7|null|null|null|27.8|null|null|null|28.3|null|null|\n",
      "|       Finland|20.4|21.2|20.4|20.1|20.0|18.9|19.4|21.4|21.2|19.7|18.9|18.6|18.7|20.2|19.6|18.1|null|\n",
      "|        France|null|null|13.3|null|null|null| 9.4|null|null|null| 9.1|null|null|null| 9.9|null|null|\n",
      "|       Germany|19.6|19.1|19.1|19.6|21.9|16.3|18.1|16.7|16.7|16.5|16.7|16.9|15.6|14.1|17.4|15.8|15.5|\n",
      "|        Greece|null|null|null|null|13.9|16.7|11.9|11.6| 9.5| 9.6|12.2|10.7| 6.9|11.3| 9.1| 6.3| 4.5|\n",
      "|       Hungary|14.1|13.7| 9.1| 1.5| 3.0| 4.0| 0.4| 3.6| 2.2| 3.9| 6.4| 6.9|11.3| 8.7| 3.8| 9.5| 9.4|\n",
      "|       Iceland|null|null|null|null|19.2|13.2|12.4|15.9|13.3|16.0|14.3|14.1|null|14.5|13.6| 9.9|null|\n",
      "|       Ireland|19.7|null|null|19.7|18.2|13.8|14.4|18.0|15.0|14.9|12.8|10.4| 8.5|12.8|15.2|14.4|null|\n",
      "|        Israel|null|28.1|24.8|25.2|25.2|22.9|22.1|21.3|20.4|20.1|20.1|20.9|19.5|18.2|18.9|19.3|null|\n",
      "|         Italy| 8.5|null|10.3|null| 6.7|null| 7.7|null|11.8|null| 9.9|null|11.1|null| 5.6|null|null|\n",
      "|         Japan|33.9|33.9|32.5|32.0|31.1|32.8|33.0|31.7|30.7|28.3|28.7|27.4|26.5|26.6|25.9|25.7|null|\n",
      "|         Korea|41.7|40.4|41.0|40.1|39.6|39.6|39.8|38.2|39.0|38.6|39.6|36.6|36.3|36.6|36.7|37.2|36.7|\n",
      "|        Latvia|null|null|18.9|null|null|null|11.0|null|null|null|19.1|null|null|null|21.1|null|null|\n",
      "+--------------+----+----+----+----+----+----+----+----+----+----+----+----+----+----+----+----+----+\n",
      "only showing top 20 rows\n",
      "\n"
     ]
    }
   ],
   "source": [
    "# GENDER WAGE GAP dataset\n",
    "\n",
    "\n",
    "gwg.show()"
   ]
  },
  {
   "cell_type": "code",
   "execution_count": 34,
   "metadata": {
    "scrolled": true
   },
   "outputs": [
    {
     "name": "stdout",
     "output_type": "stream",
     "text": [
      "+-------+-------------+------------------+-----------------+-----------------+------------------+------------------+------------------+\n",
      "|summary|      Country|              2011|             2012|             2013|              2014|              2015|              2016|\n",
      "+-------+-------------+------------------+-----------------+-----------------+------------------+------------------+------------------+\n",
      "|  count|           46|                29|               29|               27|                37|                26|                16|\n",
      "|   mean|         null|14.027586206896551|14.01379310344828|14.34074074074074|13.854054054054055|14.692307692307692|14.081250000000002|\n",
      "| stddev|         null| 7.193096717971244|7.115763393336707|7.166388386567009| 7.402424324900991|7.2486094157112975| 7.822038843336607|\n",
      "|    min|    Australia|               3.5|              0.6|              0.0|               3.3|               3.7|               1.8|\n",
      "|    max|United States|              36.6|             36.3|             36.6|              36.7|              37.2|              36.7|\n",
      "+-------+-------------+------------------+-----------------+-----------------+------------------+------------------+------------------+\n",
      "\n"
     ]
    }
   ],
   "source": [
    "\n",
    "#selecting just recent 5 years data so a proper analysis can be done\n",
    "gwg.select('Country','2011','2012','2013','2014','2015','2016').describe().show()\n",
    "\n",
    "#As seen below, the mean gender wage is around 14%, and the country with highest wage gap is \"Unites States\" (36%)"
   ]
  },
  {
   "cell_type": "code",
   "execution_count": 36,
   "metadata": {},
   "outputs": [
    {
     "name": "stdout",
     "output_type": "stream",
     "text": [
      "+---------------+--------------------+---------+----+---------+----+---------+----+---------+----+---------+----+---------+----+---------+----+---------+\n",
      "|HDI Rank (2015)|             Country|2000_gnif| _c3|2005_gnif| _c5|2010_gnif| _c7|2011_gnif| _c9|2012_gnif|_c11|2013_gnif|_c13|2014_gnif|_c15|2015_gnif|\n",
      "+---------------+--------------------+---------+----+---------+----+---------+----+---------+----+---------+----+---------+----+---------+----+---------+\n",
      "|            169|         Afghanistan|      165|null|      264|null|      420|null|      450|null|      491|null|      515|null|      517|null|      511|\n",
      "|             75|             Albania|     3714|null|     4928|null|     6795|null|     7003|null|     7058|null|     7181|null|     7209|null|     7365|\n",
      "|             83|             Algeria|     2109|null|     2783|null|     3630|null|     3681|null|     3770|null|     3840|null|     3944|null|     4022|\n",
      "|            150|              Angola|     2831|null|     3081|null|     4718|null|     4743|null|     4826|null|     5000|null|     5085|null|     5073|\n",
      "|             45|           Argentina|     8991|null|     9935|null|    12734|null|    12413|null|    13023|null|    13343|null|    12705|null|    12880|\n",
      "|             84|             Armenia|     1771|null|     3672|null|     5035|null|     5151|null|     5373|null|     5487|null|     5522|null|     5533|\n",
      "|              2|           Australia|    26268|null|    29848|null|    31749|null|    32039|null|    32968|null|    33478|null|    33751|null|    34271|\n",
      "|             24|             Austria|    23830|null|    25997|null|    29036|null|    29703|null|    29943|null|    30097|null|    29753|null|    29835|\n",
      "|             78|          Azerbaijan|     3508|null|     4509|null|    10342|null|     9512|null|     9004|null|     9803|null|    11149|null|    11033|\n",
      "|             58|             Bahamas|    20639|null|    20134|null|    18567|null|    18403|null|    18497|null|    18161|null|    18101|null|    18070|\n",
      "|             47|             Bahrain|    21578|null|    27393|null|    25376|null|    23687|null|    24307|null|    25325|null|    25328|null|    25711|\n",
      "|            139|          Bangladesh|     1064|null|     1326|null|     1861|null|     1962|null|     2080|null|     2176|null|     2264|null|     2379|\n",
      "|             54|            Barbados|    10609|null|    10958|null|    11849|null|    11844|null|    11820|null|    11769|null|    11746|null|    11801|\n",
      "|             52|             Belarus|     6031|null|     8830|null|    12151|null|    12973|null|    12975|null|    12652|null|    13145|null|    12323|\n",
      "|             22|             Belgium|    26700|null|    29608|null|    32273|null|    31633|null|    31989|null|    32088|null|    32345|null|    32422|\n",
      "|            103|              Belize|     3444|null|     4168|null|     4631|null|     5260|null|     5308|null|     5301|null|     5376|null|     5360|\n",
      "|            167|               Benin|     1268|null|     1349|null|     1462|null|     1470|null|     1495|null|     1561|null|     1626|null|     1673|\n",
      "|            132|              Bhutan|     2431|null|     3332|null|     4909|null|     5162|null|     5257|null|     5360|null|     5551|null|     5657|\n",
      "|            118| Bolivia (Plurina...|     3128|null|     3328|null|     3885|null|     4027|null|     4116|null|     4343|null|     4588|null|     4696|\n",
      "|             81| Bosnia and Herze...|     4606|null|     5264|null|     6570|null|     6579|null|     6505|null|     6683|null|     6725|null|     6950|\n",
      "+---------------+--------------------+---------+----+---------+----+---------+----+---------+----+---------+----+---------+----+---------+----+---------+\n",
      "only showing top 20 rows\n",
      "\n"
     ]
    }
   ],
   "source": [
    "# GROSS NATIONAL INCOME of Female dataset\n",
    "\n",
    "gnif.show()\n",
    "\n",
    "#It is seen that it contains an empty row alternately, which needs to removed while cleaning data"
   ]
  },
  {
   "cell_type": "code",
   "execution_count": 42,
   "metadata": {},
   "outputs": [
    {
     "name": "stdout",
     "output_type": "stream",
     "text": [
      "+--------------------+---------+---------+\n",
      "|             Country|2010_gnif|2015_gnif|\n",
      "+--------------------+---------+---------+\n",
      "|         Afghanistan|      420|      511|\n",
      "|             Albania|     6795|     7365|\n",
      "|             Algeria|     3630|     4022|\n",
      "|              Angola|     4718|     5073|\n",
      "|           Argentina|    12734|    12880|\n",
      "|             Armenia|     5035|     5533|\n",
      "|           Australia|    31749|    34271|\n",
      "|             Austria|    29036|    29835|\n",
      "|          Azerbaijan|    10342|    11033|\n",
      "|             Bahamas|    18567|    18070|\n",
      "|             Bahrain|    25376|    25711|\n",
      "|          Bangladesh|     1861|     2379|\n",
      "|            Barbados|    11849|    11801|\n",
      "|             Belarus|    12151|    12323|\n",
      "|             Belgium|    32273|    32422|\n",
      "|              Belize|     4631|     5360|\n",
      "|               Benin|     1462|     1673|\n",
      "|              Bhutan|     4909|     5657|\n",
      "| Bolivia (Plurina...|     3885|     4696|\n",
      "| Bosnia and Herze...|     6570|     6950|\n",
      "+--------------------+---------+---------+\n",
      "only showing top 20 rows\n",
      "\n"
     ]
    }
   ],
   "source": [
    "gnif.select('Country','2010_gnif','2015_gnif').show()\n",
    "\n",
    "\n",
    "# the values seen here are in million USD dollars"
   ]
  },
  {
   "cell_type": "code",
   "execution_count": 5,
   "metadata": {},
   "outputs": [
    {
     "name": "stdout",
     "output_type": "stream",
     "text": [
      "+--------------------+--------+--------+\n",
      "|             Country|2010_gni|2015_gni|\n",
      "+--------------------+--------+--------+\n",
      "|         Afghanistan|    2774|    3148|\n",
      "|             Albania|   11731|   13186|\n",
      "|             Algeria|   21985|   22926|\n",
      "|              Angola|    7079|    7527|\n",
      "|           Argentina|   25431|   29363|\n",
      "|             Armenia|    8542|   11260|\n",
      "|           Australia|   47883|   51386|\n",
      "|             Austria|   58364|   57882|\n",
      "|          Azerbaijan|   19989|   21841|\n",
      "|             Bahamas|   25976|   25209|\n",
      "|             Bahrain|   44067|   44306|\n",
      "|          Bangladesh|    3425|    4285|\n",
      "|            Barbados|   18325|   18377|\n",
      "|             Belarus|   19073|   19437|\n",
      "|             Belgium|   51932|   50352|\n",
      "|              Belize|    9640|    9401|\n",
      "|               Benin|    2032|    2287|\n",
      "|              Bhutan|    7175|    8308|\n",
      "| Bolivia (Plurina...|    6465|    7609|\n",
      "| Bosnia and Herze...|   12421|   13261|\n",
      "+--------------------+--------+--------+\n",
      "only showing top 20 rows\n",
      "\n"
     ]
    }
   ],
   "source": [
    "# GROSS NATIONAL INCOME male dataset\n",
    "\n",
    "gnim.select('Country','2010_gni','2015_gni').show()"
   ]
  },
  {
   "cell_type": "markdown",
   "metadata": {},
   "source": [
    "The national income by male is very high than female.\n"
   ]
  },
  {
   "cell_type": "code",
   "execution_count": 7,
   "metadata": {},
   "outputs": [
    {
     "name": "stdout",
     "output_type": "stream",
     "text": [
      "+--------------+------------------------+------------------------+---------------------+----------------+----------------+--------------+---------------+--------------+------------+--------------+--------------+------------+--------------------+--------------------+------------------+\n",
      "|       Country|Tertiary education Total|Tertiary education Women|Tertiary educationMen|Bachelor's Total|Bachelor's Women|Bachelor's Men|Master�s Total |Master's Women|Master's Men|Doctoral Total|Doctoral Women|Doctoral Men|Total tertiary Total|Total tertiary Women|Total tertiary Men|\n",
      "+--------------+------------------------+------------------------+---------------------+----------------+----------------+--------------+---------------+--------------+------------+--------------+--------------+------------+--------------------+--------------------+------------------+\n",
      "|     Australia|                    14.7|                    17.9|                 11.5|            59.5|            71.1|          48.5|           20.2|          21.7|        18.7|           2.5|           2.5|         2.6|                76.1|                87.3|              65.4|\n",
      "|       Austria|                    26.3|                    29.1|                 23.7|            24.6|            29.3|          20.1|           19.5|          21.0|        18.1|           1.9|           1.6|         2.1|                49.3|                57.0|              41.9|\n",
      "|       Belgium|                    null|                    null|                 null|            42.6|            52.3|          33.2|           11.7|          13.1|        10.3|           0.6|           0.5|         0.7|                42.6|                52.3|              33.2|\n",
      "|        Canada|                    21.3|                    24.4|                 18.3|            39.7|            48.0|          31.7|           11.3|          12.7|         9.9|           1.5|           1.4|         1.7|                null|                null|              null|\n",
      "|         Chile|                    25.4|                    30.2|                 20.7|            36.1|            39.4|          32.8|            8.7|           9.6|         7.8|           0.2|           0.2|         0.3|                58.3|                66.6|              50.2|\n",
      "|Czech Republic|                     0.3|                     0.4|                  0.2|            36.6|            47.1|          26.7|           25.9|          31.6|        20.3|           1.6|           1.4|         1.7|                41.1|                52.9|              29.7|\n",
      "|       Denmark|                    12.3|                    12.1|                 12.5|            53.5|            64.2|          43.0|           28.2|          32.3|        24.2|           3.2|           3.1|         3.3|                64.9|                75.3|              54.9|\n",
      "|       Estonia|                    null|                    null|                 null|            null|            null|          null|           null|          null|        null|          null|          null|        null|                null|                null|              null|\n",
      "|       Finland|                    null|                    null|                 null|            49.6|            59.7|          39.9|           24.1|          29.5|        18.9|           2.6|           2.8|         2.4|                52.6|                61.4|              44.2|\n",
      "|        France|                    null|                    null|                 null|            null|            null|          null|           null|          null|        null|          null|          null|        null|                null|                null|              null|\n",
      "|       Germany|                     0.0|                     0.0|                  0.0|            32.3|            32.3|          32.3|           17.4|          18.8|        16.2|           2.9|           2.6|         3.1|                38.7|                40.7|              36.9|\n",
      "|        Greece|                    null|                    null|                 null|            null|            null|          null|           null|          null|        null|          null|          null|        null|                null|                null|              null|\n",
      "|       Hungary|                     1.4|                     1.9|                  0.9|            26.5|            32.0|          21.3|           15.1|          18.0|        12.4|           0.9|           0.8|         1.0|                32.0|                38.8|              25.5|\n",
      "|       Ireland|                    null|                    null|                 null|            null|            null|          null|           null|          null|        null|          null|          null|        null|                null|                null|              null|\n",
      "|        Israel|                    null|                    null|                 null|            42.1|            50.6|          33.8|           18.8|          23.2|        14.4|           1.5|           1.5|         1.5|                null|                null|              null|\n",
      "|         Italy|                     0.3|                     0.1|                  0.4|            28.5|            34.1|          23.1|           19.9|          23.8|        16.1|           1.5|           1.5|         1.4|                34.7|                41.9|              27.8|\n",
      "|         Japan|                    25.1|                    32.1|                 18.4|            45.5|            42.8|          48.0|            8.1|           5.5|        10.6|           1.2|           0.7|         1.6|                72.1|                76.5|              68.0|\n",
      "|         Korea|                    null|                    null|                 null|            null|            null|          null|           null|          null|        null|           1.6|           1.2|         2.0|                null|                null|              null|\n",
      "|        Latvia|                    14.1|                    19.0|                  9.2|            30.5|            39.7|          21.9|           15.8|          22.2|         9.5|           0.9|           1.0|         0.8|                44.9|                59.0|              31.3|\n",
      "|     Lithuania|                    null|                    null|                 null|            50.9|            65.0|          37.3|           19.9|          27.1|        13.0|           1.1|           1.3|         0.9|                54.2|                69.9|              39.2|\n",
      "+--------------+------------------------+------------------------+---------------------+----------------+----------------+--------------+---------------+--------------+------------+--------------+--------------+------------+--------------------+--------------------+------------------+\n",
      "only showing top 20 rows\n",
      "\n"
     ]
    }
   ],
   "source": [
    "\n",
    "#GRADUATION RATES Dataset\n",
    "\n",
    "grad.show()\n",
    "\n",
    "#due to several columns output is not clear\n",
    "# lets just select 'tertiary education', 'Masters','doctoral' for men and women in particular country\n",
    "#this data is of the year 2015"
   ]
  },
  {
   "cell_type": "code",
   "execution_count": 12,
   "metadata": {},
   "outputs": [
    {
     "name": "stdout",
     "output_type": "stream",
     "text": [
      "+--------------+------------------------+---------------------+--------------+------------+\n",
      "|       Country|Tertiary education Women|Tertiary educationMen|Doctoral Women|Doctoral Men|\n",
      "+--------------+------------------------+---------------------+--------------+------------+\n",
      "|     Australia|                    17.9|                 11.5|           2.5|         2.6|\n",
      "|       Austria|                    29.1|                 23.7|           1.6|         2.1|\n",
      "|       Belgium|                    null|                 null|           0.5|         0.7|\n",
      "|        Canada|                    24.4|                 18.3|           1.4|         1.7|\n",
      "|         Chile|                    30.2|                 20.7|           0.2|         0.3|\n",
      "|Czech Republic|                     0.4|                  0.2|           1.4|         1.7|\n",
      "|       Denmark|                    12.1|                 12.5|           3.1|         3.3|\n",
      "|       Estonia|                    null|                 null|          null|        null|\n",
      "|       Finland|                    null|                 null|           2.8|         2.4|\n",
      "|        France|                    null|                 null|          null|        null|\n",
      "|       Germany|                     0.0|                  0.0|           2.6|         3.1|\n",
      "|        Greece|                    null|                 null|          null|        null|\n",
      "|       Hungary|                     1.9|                  0.9|           0.8|         1.0|\n",
      "|       Ireland|                    null|                 null|          null|        null|\n",
      "|        Israel|                    null|                 null|           1.5|         1.5|\n",
      "|         Italy|                     0.1|                  0.4|           1.5|         1.4|\n",
      "|         Japan|                    32.1|                 18.4|           0.7|         1.6|\n",
      "|         Korea|                    null|                 null|           1.2|         2.0|\n",
      "|        Latvia|                    19.0|                  9.2|           1.0|         0.8|\n",
      "|     Lithuania|                    null|                 null|           1.3|         0.9|\n",
      "+--------------+------------------------+---------------------+--------------+------------+\n",
      "only showing top 20 rows\n",
      "\n"
     ]
    }
   ],
   "source": [
    "grad.select('Country','Tertiary education Women','Tertiary educationMen','Doctoral Women','Doctoral Men').show()\n",
    "\n",
    "#here it can be seen that some countries have higher eduacted women but still GNI by women is less than men. (EG. Australia)\n",
    "#the reason could be less oppurtunities for women, family responsibility, household burden and many more. "
   ]
  },
  {
   "cell_type": "code",
   "execution_count": 17,
   "metadata": {},
   "outputs": [
    {
     "name": "stdout",
     "output_type": "stream",
     "text": [
      "+--------+---------+-------+-------+---------+----+-----------+----------+\n",
      "|LOCATION|INDICATOR|SUBJECT|MEASURE|FREQUENCY|TIME|  GDP Value|Flag Codes|\n",
      "+--------+---------+-------+-------+---------+----+-----------+----------+\n",
      "|     AUS|      GDP|    TOT|MLN_USD|        A|1960| 25029.0336|      null|\n",
      "|     AUS|      GDP|    TOT|MLN_USD|        A|1961| 25320.6787|      null|\n",
      "|     AUS|      GDP|    TOT|MLN_USD|        A|1962| 27905.9382|      null|\n",
      "|     AUS|      GDP|    TOT|MLN_USD|        A|1963| 30378.5632|      null|\n",
      "|     AUS|      GDP|    TOT|MLN_USD|        A|1964| 32687.4079|      null|\n",
      "|     AUS|      GDP|    TOT|MLN_USD|        A|1965| 34481.4258|      null|\n",
      "|     AUS|      GDP|    TOT|MLN_USD|        A|1966| 38275.4368|      null|\n",
      "|     AUS|      GDP|    TOT|MLN_USD|        A|1967|  40994.175|      null|\n",
      "|     AUS|      GDP|    TOT|MLN_USD|        A|1968| 46477.0639|      null|\n",
      "|     AUS|      GDP|    TOT|MLN_USD|        A|1969|  52119.205|      null|\n",
      "|     AUS|      GDP|    TOT|MLN_USD|        A|1970| 58886.1074|      null|\n",
      "|     AUS|      GDP|    TOT|MLN_USD|        A|1971| 64171.6399|      null|\n",
      "|     AUS|      GDP|    TOT|MLN_USD|        A|1972| 69847.9051|      null|\n",
      "|     AUS|      GDP|    TOT|MLN_USD|        A|1973| 78860.4446|      null|\n",
      "|     AUS|      GDP|    TOT|MLN_USD|        A|1974| 86331.9369|      null|\n",
      "|     AUS|      GDP|    TOT|MLN_USD|        A|1975| 96861.1374|      null|\n",
      "|     AUS|      GDP|    TOT|MLN_USD|        A|1976| 104279.979|      null|\n",
      "|     AUS|      GDP|    TOT|MLN_USD|        A|1977|110259.1513|      null|\n",
      "|     AUS|      GDP|    TOT|MLN_USD|        A|1978|123303.4917|      null|\n",
      "|     AUS|      GDP|    TOT|MLN_USD|        A|1979| 137883.756|      null|\n",
      "+--------+---------+-------+-------+---------+----+-----------+----------+\n",
      "only showing top 20 rows\n",
      "\n"
     ]
    }
   ],
   "source": [
    "\n",
    "#Gross Domestic Product dataset\n",
    "\n",
    "gdp.show()\n",
    "\n",
    "#the columns indicator, measure, frequency,flag codes are not quite useless\n",
    "#we will remove them in data transformation step"
   ]
  },
  {
   "cell_type": "code",
   "execution_count": 18,
   "metadata": {},
   "outputs": [
    {
     "name": "stdout",
     "output_type": "stream",
     "text": [
      "+--------+--------------------+-----------------------------+------------------------+---------------------+------------------------------------+--------------------------------------------+------------------------------------------+----------------------------------------+--------------------------------------+\n",
      "|GII Rank|             Country|Gender Inequality Index (GII)|Maternal Mortality Ratio|Adolescent Birth Rate|Percent Representation in Parliament|Population with Secondary Education (Female)|Population with Secondary Education (Male)|Labour Force Participation Rate (Female)|Labour Force Participation Rate (Male)|\n",
      "+--------+--------------------+-----------------------------+------------------------+---------------------+------------------------------------+--------------------------------------------+------------------------------------------+----------------------------------------+--------------------------------------+\n",
      "|       1|              Norway|                        0.067|                       4|                  7.8|                                39.6|                                        97.4|                                      96.7|                                    61.2|                                  68.7|\n",
      "|       2|           Australia|                         0.11|                       6|                 12.1|                                30.5|                                        94.3|                                      94.6|                                    58.8|                                  71.8|\n",
      "|       3|         Switzerland|                        0.028|                       6|                  1.9|                                28.5|                                        95.0|                                      96.6|                                    61.8|                                  74.9|\n",
      "|       4|             Denmark|                        0.048|                       5|                  5.1|                                38.0|                                        95.5|                                      96.6|                                    58.7|                                  66.4|\n",
      "|       5|         Netherlands|                        0.062|                       6|                  6.2|                                36.9|                                        87.7|                                      90.5|                                    58.5|                                  70.6|\n",
      "|       6|             Germany|                        0.041|                       7|                  3.8|                                36.9|                                        96.3|                                      97.0|                                    53.6|                                  66.4|\n",
      "|       6|             Ireland|                        0.113|                       9|                  8.2|                                19.9|                                        80.5|                                      78.6|                                    53.1|                                  68.1|\n",
      "|       8|       United States|                         0.28|                      28|                 31.0|                                19.4|                                        95.1|                                      94.8|                                    56.3|                                  68.9|\n",
      "|       9|              Canada|                        0.129|                      11|                 14.5|                                28.2|                                       100.0|                                     100.0|                                    61.6|                                  71.0|\n",
      "|       9|         New Zealand|                        0.157|                       8|                 25.3|                                31.4|                                        95.0|                                      95.3|                                    62.0|                                  73.8|\n",
      "|      11|           Singapore|                        0.088|                       6|                  6.0|                                25.3|                                        74.1|                                      81.0|                                    58.8|                                  77.2|\n",
      "|      12|Hong Kong, China ...|                         null|                    null|                  3.3|                                null|                                        72.2|                                      79.2|                                    51.3|                                  67.8|\n",
      "|      13|       Liechtenstein|                         null|                    null|                 null|                                20.0|                                        null|                                      null|                                    null|                                  null|\n",
      "|      14|              Sweden|                        0.055|                       4|                  6.5|                                43.6|                                        86.5|                                      87.3|                                    60.3|                                  67.9|\n",
      "|      14|      United Kingdom|                        0.177|                       8|                 25.8|                                23.5|                                        99.8|                                      99.9|                                    55.7|                                  68.7|\n",
      "|      16|             Iceland|                        0.087|                       4|                 11.5|                                41.3|                                        91.0|                                      91.6|                                    70.5|                                  77.4|\n",
      "|      17| Korea (Republic of)|                        0.125|                      27|                  2.2|                                16.3|                                        77.0|                                      89.1|                                    50.1|                                  72.1|\n",
      "|      18|              Israel|                        0.101|                       2|                  7.8|                                22.5|                                        84.4|                                      87.3|                                    57.9|                                  69.1|\n",
      "|      19|          Luxembourg|                          0.1|                      11|                  8.3|                                28.3|                                       100.0|                                     100.0|                                    50.7|                                  64.6|\n",
      "|      20|               Japan|                        0.133|                       6|                  5.4|                                11.6|                                        87.0|                                      85.8|                                    48.8|                                  70.4|\n",
      "+--------+--------------------+-----------------------------+------------------------+---------------------+------------------------------------+--------------------------------------------+------------------------------------------+----------------------------------------+--------------------------------------+\n",
      "only showing top 20 rows\n",
      "\n"
     ]
    }
   ],
   "source": [
    "#Gender inequality dataset\n",
    "\n",
    "inequality.show()\n",
    "\n",
    "#lets select fewer column for better understanding"
   ]
  },
  {
   "cell_type": "code",
   "execution_count": 19,
   "metadata": {
    "scrolled": true
   },
   "outputs": [
    {
     "name": "stdout",
     "output_type": "stream",
     "text": [
      "+--------------------+-----------------------------+------------------------------------+------------------------+\n",
      "|             Country|Gender Inequality Index (GII)|Percent Representation in Parliament|Maternal Mortality Ratio|\n",
      "+--------------------+-----------------------------+------------------------------------+------------------------+\n",
      "|              Norway|                        0.067|                                39.6|                       4|\n",
      "|           Australia|                         0.11|                                30.5|                       6|\n",
      "|         Switzerland|                        0.028|                                28.5|                       6|\n",
      "|             Denmark|                        0.048|                                38.0|                       5|\n",
      "|         Netherlands|                        0.062|                                36.9|                       6|\n",
      "|             Germany|                        0.041|                                36.9|                       7|\n",
      "|             Ireland|                        0.113|                                19.9|                       9|\n",
      "|       United States|                         0.28|                                19.4|                      28|\n",
      "|              Canada|                        0.129|                                28.2|                      11|\n",
      "|         New Zealand|                        0.157|                                31.4|                       8|\n",
      "|           Singapore|                        0.088|                                25.3|                       6|\n",
      "|Hong Kong, China ...|                         null|                                null|                    null|\n",
      "|       Liechtenstein|                         null|                                20.0|                    null|\n",
      "|              Sweden|                        0.055|                                43.6|                       4|\n",
      "|      United Kingdom|                        0.177|                                23.5|                       8|\n",
      "|             Iceland|                        0.087|                                41.3|                       4|\n",
      "| Korea (Republic of)|                        0.125|                                16.3|                      27|\n",
      "|              Israel|                        0.101|                                22.5|                       2|\n",
      "|          Luxembourg|                          0.1|                                28.3|                      11|\n",
      "|               Japan|                        0.133|                                11.6|                       6|\n",
      "+--------------------+-----------------------------+------------------------------------+------------------------+\n",
      "only showing top 20 rows\n",
      "\n"
     ]
    }
   ],
   "source": [
    "\n",
    "#GII- if the value is closer to 1, then there is less bias between men and women \n",
    "\n",
    "# % in parliament, Maternal mortality rate are also extracted below\n",
    "\n",
    "\n",
    "inequality.select('Country','Gender Inequality Index (GII)','Percent Representation in Parliament','Maternal Mortality Ratio').show()"
   ]
  },
  {
   "cell_type": "code",
   "execution_count": 21,
   "metadata": {},
   "outputs": [
    {
     "name": "stdout",
     "output_type": "stream",
     "text": [
      "+--------------------+----------------------------------------+--------------------------------------+\n",
      "|             Country|Labour Force Participation Rate (Female)|Labour Force Participation Rate (Male)|\n",
      "+--------------------+----------------------------------------+--------------------------------------+\n",
      "|              Norway|                                    61.2|                                  68.7|\n",
      "|           Australia|                                    58.8|                                  71.8|\n",
      "|         Switzerland|                                    61.8|                                  74.9|\n",
      "|             Denmark|                                    58.7|                                  66.4|\n",
      "|         Netherlands|                                    58.5|                                  70.6|\n",
      "|             Germany|                                    53.6|                                  66.4|\n",
      "|             Ireland|                                    53.1|                                  68.1|\n",
      "|       United States|                                    56.3|                                  68.9|\n",
      "|              Canada|                                    61.6|                                  71.0|\n",
      "|         New Zealand|                                    62.0|                                  73.8|\n",
      "|           Singapore|                                    58.8|                                  77.2|\n",
      "|Hong Kong, China ...|                                    51.3|                                  67.8|\n",
      "|       Liechtenstein|                                    null|                                  null|\n",
      "|              Sweden|                                    60.3|                                  67.9|\n",
      "|      United Kingdom|                                    55.7|                                  68.7|\n",
      "|             Iceland|                                    70.5|                                  77.4|\n",
      "| Korea (Republic of)|                                    50.1|                                  72.1|\n",
      "|              Israel|                                    57.9|                                  69.1|\n",
      "|          Luxembourg|                                    50.7|                                  64.6|\n",
      "|               Japan|                                    48.8|                                  70.4|\n",
      "+--------------------+----------------------------------------+--------------------------------------+\n",
      "only showing top 20 rows\n",
      "\n"
     ]
    }
   ],
   "source": [
    "inequality.select('Country','Labour Force Participation Rate (Female)','Labour Force Participation Rate (Male)').show()\n",
    "\n",
    "#the values is given in %\n",
    "\n",
    "#every country has low female rate as seen from below table"
   ]
  },
  {
   "cell_type": "markdown",
   "metadata": {},
   "source": [
    "We will explore the data in more depth in the next step."
   ]
  },
  {
   "cell_type": "code",
   "execution_count": null,
   "metadata": {},
   "outputs": [],
   "source": []
  }
 ],
 "metadata": {
  "kernelspec": {
   "display_name": "Python 3",
   "language": "python",
   "name": "python3"
  },
  "language_info": {
   "codemirror_mode": {
    "name": "ipython",
    "version": 3
   },
   "file_extension": ".py",
   "mimetype": "text/x-python",
   "name": "python",
   "nbconvert_exporter": "python",
   "pygments_lexer": "ipython3",
   "version": "3.5.2"
  }
 },
 "nbformat": 4,
 "nbformat_minor": 2
}
